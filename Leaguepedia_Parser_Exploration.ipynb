{
 "cells": [
  {
   "cell_type": "code",
   "execution_count": 1,
   "id": "24627f6b",
   "metadata": {
    "ExecuteTime": {
     "end_time": "2024-02-09T13:57:02.833322Z",
     "start_time": "2024-02-09T13:57:01.461949Z"
    },
    "scrolled": true
   },
   "outputs": [],
   "source": [
    "import numpy as np\n",
    "import pandas as pd\n",
    "from datetime import datetime as dt\n",
    "import matplotlib.pyplot as plt\n",
    "from bs4 import BeautifulSoup\n",
    "import leaguepedia_parser as lolp\n",
    "import dataclasses\n",
    "\n",
    "pd.set_option('display.min_rows', None)\n",
    "plt.style.use(\"dark_background\")"
   ]
  },
  {
   "cell_type": "markdown",
   "id": "b5c91b6f",
   "metadata": {},
   "source": [
    "This notebook contains the code used to collect all of the data used in my analysis of League of Legends profesisonal gameplay meta. The main information used (the ban/pick and win/loss information of each game and when they were played) are all scraped from leaguepedia (now lol.fandom.com) using an API built for the website. This notebook is quite messy as it contains test code I used as I was learning the API and figuring out how to optimize my scraper. To suit the needs of this portfolio, output from the scrapers are limited because the original output can be very large (some outputs include information for every game from every tournament documented on the website)."
   ]
  },
  {
   "cell_type": "code",
   "execution_count": 2,
   "id": "7eae470a",
   "metadata": {
    "ExecuteTime": {
     "end_time": "2024-02-09T13:57:04.698906Z",
     "start_time": "2024-02-09T13:57:04.682918Z"
    },
    "scrolled": true
   },
   "outputs": [
    {
     "data": {
      "text/plain": [
       "['__builtins__',\n",
       " '__cached__',\n",
       " '__doc__',\n",
       " '__file__',\n",
       " '__loader__',\n",
       " '__name__',\n",
       " '__package__',\n",
       " '__path__',\n",
       " '__spec__',\n",
       " 'get_all_team_assets',\n",
       " 'get_game_details',\n",
       " 'get_games',\n",
       " 'get_long_team_name_from_trigram',\n",
       " 'get_regions',\n",
       " 'get_team_logo',\n",
       " 'get_team_thumbnail',\n",
       " 'get_tournaments',\n",
       " 'parsers',\n",
       " 'site',\n",
       " 'transmuters']"
      ]
     },
     "execution_count": 2,
     "metadata": {},
     "output_type": "execute_result"
    }
   ],
   "source": [
    "# Learning the methods for this API\n",
    "dir(lolp)"
   ]
  },
  {
   "cell_type": "code",
   "execution_count": 3,
   "id": "8a623fee",
   "metadata": {
    "ExecuteTime": {
     "end_time": "2024-02-09T13:57:07.848404Z",
     "start_time": "2024-02-09T13:57:06.412251Z"
    },
    "scrolled": true
   },
   "outputs": [
    {
     "data": {
      "text/plain": [
       "[LeaguepediaTournament(name='LCK 2024 Season Opening', start='2024-01-09', end='2024-01-09', region='Korea', league=None, leagueShort=None, rulebook=None, tournamentLevel='Primary', isQualifier=True, isPlayoffs=True, isOfficial=True, overviewPage='LCK 2024 Season Opening'),\n",
       " LeaguepediaTournament(name='IWCT 2013', start='2013-08-21', end='2013-08-23', region='Wildcard', league='2014 International Wildcard Tournament', leagueShort=None, rulebook=None, tournamentLevel='Primary', isQualifier=True, isPlayoffs=True, isOfficial=True, overviewPage='Gamescom 2013/International Wildcard Tournament'),\n",
       " LeaguepediaTournament(name='IWCT 2014', start='2014-08-13', end='2014-09-01', region='Wildcard', league='2014 International Wildcard Tournament', leagueShort=None, rulebook=None, tournamentLevel='Primary', isQualifier=True, isPlayoffs=True, isOfficial=True, overviewPage='2014 Season International Wild Card Tournament'),\n",
       " LeaguepediaTournament(name='Brazil Regional Finals 2014', start='2014-07-18', end='2014-07-26', region='Brazil', league='Brazil Regional Finals', leagueShort=None, rulebook=None, tournamentLevel='Primary', isQualifier=True, isPlayoffs=True, isOfficial=True, overviewPage='CBLOL/2014 Season/Regional Finals'),\n",
       " LeaguepediaTournament(name='LAN 2015 Closing Cup', start='2015-06-01', end='2015-07-01', region='LAN', league='Copa Latinoamérica Norte', leagueShort=None, rulebook=None, tournamentLevel='Primary', isQualifier=True, isPlayoffs=True, isOfficial=True, overviewPage='Lat"
      ]
     },
     "execution_count": 3,
     "metadata": {},
     "output_type": "execute_result"
    },
    {
     "data": {
      "text/html": [
       "<b>limit_output extension: Maximum message size of 1500 exceeded with 318603 characters</b>"
      ]
     },
     "metadata": {},
     "output_type": "display_data"
    }
   ],
   "source": [
    "lolp.get_tournaments()"
   ]
  },
  {
   "cell_type": "code",
   "execution_count": 4,
   "id": "0de0e338",
   "metadata": {
    "ExecuteTime": {
     "end_time": "2024-02-09T13:57:10.548904Z",
     "start_time": "2024-02-09T13:57:09.564464Z"
    },
    "scrolled": true
   },
   "outputs": [
    {
     "name": "stdout",
     "output_type": "stream",
     "text": [
      "LCK 2024 Season Opening\n",
      "LCK 2024 Season Opening\n",
      "IWCT 2013\n",
      "Gamescom 2013/International Wildcard Tournament\n",
      "IWCT 2014\n",
      "2014 Season International Wild Card Tournament\n",
      "Brazil Regional Finals 2014\n",
      "CBLOL/2014 Season/Regional Finals\n",
      "LAN 2015 Closing Cup\n",
      "Latin America Cup 2015/LAN/Closing Cup/Regular Season\n",
      "LAN 2015 Closing Cup Playoffs\n",
      "Latin America Cup 2015/LAN/Closing Cup/Playoffs\n",
      "LAN 2015 Closing Cup Promotion\n",
      "Latin America Cup 2015/LAN/Closing Cup/Promotion\n",
      "LAN 2015 Opening Cup\n",
      "Latin America Cup 2015/LAN/Opening Cup/Regular Season\n",
      "LAN 2015 Opening Cup Playoffs\n",
      "Latin America Cup 2015/LAN/Opening Cup/Playoffs\n",
      "LAN 2016 Closing Cup\n",
      "Latin America Cup/LAN/2016 Season/Closing Cup/Regular Season\n",
      "LAN 2016 Closing Cup Playoffs\n",
      "Latin America Cup/LAN/2016 Season/Closing Cup/Playoffs\n",
      "LAN 2016 Closing Cup Promotion\n",
      "Latin America Cup/LAN/2016 Season/Closing Cup/Promotion\n",
      "LAN 2016 Opening Cup\n",
      "Latin America Cup/LAN/2016 Season/Opening Cup/Regular Season\n",
      "LAN 2016 Opening Cup Playoffs\n",
      "Latin America Cup/LAN/2016 Season/Opening Cup/Playoffs\n",
      "LAN 2016 Opening Cup Promotion\n",
      "Latin America Cup/LAN/2016 Season/Opening Cup/Promotion\n",
      "IEM Season 11 Challenger\n",
      "IEM Season 11/Challenger\n",
      "Intel Arabian Cup 2020 Algeria Split 1\n",
      "Intel Arabian Cup 2020/Algeria/Split 1\n",
      "Intel Arabian Cup 2020 Algeria Split 2\n",
      "Intel Arabian Cup 2020/Algeria/Split 2\n",
      "Intel Arabian Cup 2020 Bahrain Split 1\n",
      "Intel Arabian Cup 2020/Bahrain/Split 1\n",
      "Intel Arabian Cup 2020 Bahrain Split 2\n",
      "Intel Arabian Cup 2020/Bahrain/Split 2\n",
      "Intel Arabian Cup 2"
     ]
    },
    {
     "data": {
      "text/html": [
       "<b>limit_output extension: Maximum message size of 1500 exceeded with 43005 characters</b>"
      ]
     },
     "metadata": {},
     "output_type": "display_data"
    }
   ],
   "source": [
    "for a in lolp.get_tournaments():\n",
    "    print(a.name)\n",
    "    print(a.overviewPage)"
   ]
  },
  {
   "cell_type": "code",
   "execution_count": 5,
   "id": "f96aa431",
   "metadata": {
    "ExecuteTime": {
     "end_time": "2024-02-09T13:57:14.021254Z",
     "start_time": "2024-02-09T13:57:13.680142Z"
    },
    "scrolled": true
   },
   "outputs": [
    {
     "data": {
      "text/plain": [
       "[]"
      ]
     },
     "execution_count": 5,
     "metadata": {},
     "output_type": "execute_result"
    }
   ],
   "source": [
    "# There are no listed entries of any games for this particular tournament, and possibly others as well.\n",
    "lolp.get_games(\"Intel Arabian Cup 2020/United Arab Emirates/Split 1\")"
   ]
  },
  {
   "cell_type": "code",
   "execution_count": 6,
   "id": "7ee86511",
   "metadata": {
    "ExecuteTime": {
     "end_time": "2024-02-09T14:02:18.907813Z",
     "start_time": "2024-02-09T13:57:21.136328Z"
    },
    "scrolled": true
   },
   "outputs": [
    {
     "name": "stdout",
     "output_type": "stream",
     "text": [
      "Intel Arabian Cup 2020\n",
      "Intel Arabian Cup 2020\n",
      "[LolGame(sources=EmptyDataclass(), duration=1524, start='2020-10-01T15:29:00+00:00', creation=None, type=None, queue_id=None, patch='10.20', gameVersion=None, winner='RED', teams=LolGameTeams(BLUE=LolGameTeam(bans=[223, 777, 84, 201, 235], players=[LolGamePlayer(primaryRuneTreeId=None, secondaryRuneTreeId=None, championId=54, id=None, inGameName=None, profileIconId=None, role=None, sources=EmptyDataclass(), runes=[], summonerSpells=[], endOfGameStats=None, snapshots=[], itemsEvents=[], wardsEvents=[], skillsLevelUpEvents=[], largeMonstersKills=[], levelUpEvents=[], spellsUses=[], specialKills=[]), LolGamePlayer(primaryRuneTreeId=None, secondaryRuneTreeId=None, championId=120, id=None, inGameName=None, profileIconId=None, role=None, sources=EmptyDataclass(), runes=[], summonerSpells=[], endOfGameStats=None, snapshots=[], itemsEvents=[], wardsEvents=[], skillsLevelUpEvents=[], largeMonstersKills=[], levelUpEvents=[], spellsUses=[], specialKills=[]), LolGamePlayer(primaryRuneTreeId=None, secondaryRuneTreeId=None, championId=245, id=None, inGameName=None, profileIconId=None, role=None, sources=EmptyDataclass(), runes=[], summonerSpells=[], endOfGameStats=None, snapshots=[], itemsEvents=[], wardsEvents=[], skillsLevelUpEvents=[], largeMonstersKills=[], levelUpEvents=[], spellsUses=[], specialKills=[]), LolGamePlayer(primaryRuneTreeId=None, secondaryRuneTreeId=None, championId=360, id=None, inGameName=None, profileIconId=None, role=None"
     ]
    },
    {
     "data": {
      "text/html": [
       "<b>limit_output extension: Maximum message size of 1500 exceeded with 408860 characters</b>"
      ]
     },
     "metadata": {},
     "output_type": "display_data"
    }
   ],
   "source": [
    "tournaments = lolp.get_tournaments()\n",
    "for tournament in tournaments:\n",
    "    if lolp.get_games(tournament.name) != []:\n",
    "        print(tournament.name)\n",
    "        print(tournament.overviewPage)\n",
    "        print(lolp.get_games(tournament.name))\n",
    "        print(\"------------------------------------------------------\")"
   ]
  },
  {
   "cell_type": "code",
   "execution_count": 7,
   "id": "64052fa9",
   "metadata": {
    "ExecuteTime": {
     "end_time": "2024-02-09T14:02:19.344376Z",
     "start_time": "2024-02-09T14:02:18.910683Z"
    },
    "scrolled": true
   },
   "outputs": [
    {
     "data": {
      "text/plain": [
       "{'sources': {},\n",
       " 'duration': 1524,\n",
       " 'start': '2020-10-01T15:29:00+00:00',\n",
       " 'creation': None,\n",
       " 'type': None,\n",
       " 'queue_id': None,\n",
       " 'patch': '10.20',\n",
       " 'gameVersion': None,\n",
       " 'winner': 'RED',\n",
       " 'teams': {'BLUE': {'bans': [223, 777, 84, 201, 235],\n",
       "   'players': [{'primaryRuneTreeId': None,\n",
       "     'secondaryRuneTreeId': None,\n",
       "     'championId': 54,\n",
       "     'id': None,\n",
       "     'inGameName': None,\n",
       "     'profileIconId': None,\n",
       "     'role': None,\n",
       "     'sources': {},\n",
       "     'runes': [],\n",
       "     'summonerSpells': [],\n",
       "     'endOfGameStats': None,\n",
       "     'snapshots': [],\n",
       "     'itemsEvents': [],\n",
       "     'wardsEvents': [],\n",
       "     'skillsLevelUpEvents': [],\n",
       "     'largeMonstersKills': [],\n",
       "     'levelUpEvents': [],\n",
       "     'spellsUses': [],\n",
       "     'specialKills': []},\n",
       "    {'primaryRuneTreeId': None,\n",
       "     'secondaryRuneTreeId': None,\n",
       "     'championId': 120,\n",
       "     'id': None,\n",
       "     'inGameName': None,\n",
       "     'profileIconId': None,\n",
       "     'role': None,\n",
       "     'sources': {},\n",
       "     'runes': [],\n",
       "     'summonerSpells': [],\n",
       "     'endOfGameStats': None,\n",
       "     'snapshots': [],\n",
       "     'itemsEvents': [],\n",
       "     'wardsEvents': [],\n",
       "     'skillsLevelUpEvents': [],\n",
       "     'largeMonstersKills': [],\n",
       "     'levelUpEvents': [],\n",
       "     'spellsUses': [],\n",
       "     'specialKills': []},\n",
       "    {'primaryRuneTreeId': None,\n",
       "     'secondaryRuneTreeId': None,\n",
       "     'championId': 245,\n",
       "     'id': None,\n",
       "     'inGameName': None,\n",
       "     'profileIconId': None,\n",
       "     'role': None,\n",
       "     'sources': {},\n",
       "     'runes': [],\n",
       "     'summonerSpells': [],\n",
       "     'endOfGameStats': None,\n",
       "     'snapshots"
      ]
     },
     "execution_count": 7,
     "metadata": {},
     "output_type": "execute_result"
    },
    {
     "data": {
      "text/html": [
       "<b>limit_output extension: Maximum message size of 1500 exceeded with 5983 characters</b>"
      ]
     },
     "metadata": {},
     "output_type": "display_data"
    }
   ],
   "source": [
    "# Checking the structure of data that is returned for each get_games instance\n",
    "details = lolp.get_games(\"Intel Arabian Cup 2020\")\n",
    "test_dict = dataclasses.asdict(details[0])\n",
    "test_dict"
   ]
  },
  {
   "cell_type": "code",
   "execution_count": 8,
   "id": "2d49d7f5",
   "metadata": {
    "ExecuteTime": {
     "end_time": "2024-02-09T14:02:19.360333Z",
     "start_time": "2024-02-09T14:02:19.346372Z"
    },
    "scrolled": true
   },
   "outputs": [
    {
     "name": "stdout",
     "output_type": "stream",
     "text": [
      "10.20\n",
      "RED\n",
      "[223, 777, 84, 201, 235]\n",
      "54\n",
      "120\n",
      "245\n",
      "360\n",
      "412\n",
      "[98, 8, 58, 42, 61]\n",
      "39\n",
      "876\n",
      "236\n",
      "51\n",
      "25\n"
     ]
    }
   ],
   "source": [
    "# Test printing relevant information\n",
    "print(test_dict[\"patch\"])\n",
    "print(test_dict[\"winner\"])\n",
    "print(test_dict[\"teams\"][\"BLUE\"][\"bans\"])\n",
    "for i in range(5):\n",
    "    print(test_dict[\"teams\"][\"BLUE\"][\"players\"][i][\"championId\"])\n",
    "print(test_dict[\"teams\"][\"RED\"][\"bans\"])\n",
    "for i in range(5):\n",
    "    print(test_dict[\"teams\"][\"RED\"][\"players\"][i][\"championId\"])"
   ]
  },
  {
   "cell_type": "code",
   "execution_count": 9,
   "id": "2b799161",
   "metadata": {
    "ExecuteTime": {
     "end_time": "2024-02-09T14:02:19.376291Z",
     "start_time": "2024-02-09T14:02:19.363326Z"
    },
    "scrolled": true
   },
   "outputs": [],
   "source": [
    "# Returns relevant information for each game of a tournament\n",
    "def list_banpicks(tournament):\n",
    "    details = lolp.get_games(tournament)\n",
    "    for i in range(len(details)):\n",
    "        cur_dict = dataclasses.asdict(details[i])\n",
    "        print(cur_dict[\"patch\"])\n",
    "        print(cur_dict[\"winner\"])\n",
    "        print(cur_dict[\"teams\"][\"BLUE\"][\"bans\"])\n",
    "        for i in range(5):\n",
    "            print(cur_dict[\"teams\"][\"BLUE\"][\"players\"][i][\"championId\"])\n",
    "        print(cur_dict[\"teams\"][\"RED\"][\"bans\"])\n",
    "        for i in range(5):\n",
    "            print(cur_dict[\"teams\"][\"RED\"][\"players\"][i][\"championId\"])\n",
    "        print(\"---------------------------------------------------\")"
   ]
  },
  {
   "cell_type": "code",
   "execution_count": 10,
   "id": "11f5fb8b",
   "metadata": {
    "ExecuteTime": {
     "end_time": "2024-02-09T14:02:19.923030Z",
     "start_time": "2024-02-09T14:02:19.378287Z"
    },
    "scrolled": true
   },
   "outputs": [
    {
     "name": "stdout",
     "output_type": "stream",
     "text": [
      "13.19\n",
      "BLUE\n",
      "[115, 518, 429, 85, 53]\n",
      "126\n",
      "113\n",
      "61\n",
      "22\n",
      "888\n",
      "[51, 78, 268, 59, 150]\n",
      "897\n",
      "64\n",
      "134\n",
      "523\n",
      "526\n",
      "---------------------------------------------------\n",
      "13.19\n",
      "BLUE\n",
      "[427, 429, 268, 68, 103]\n",
      "24\n",
      "163\n",
      "897\n",
      "498\n",
      "12\n",
      "[61, 7, 57, 111, 526]\n",
      "887\n",
      "59\n",
      "134\n",
      "81\n",
      "497\n",
      "---------------------------------------------------\n",
      "13.19\n",
      "BLUE\n",
      "[134, 429, 57, 68, 888]\n",
      "897\n",
      "254\n",
      "103\n",
      "145\n",
      "12\n",
      "[78, 497, 61, 163, 7]\n",
      "24\n",
      "64\n",
      "518\n",
      "498\n",
      "875\n",
      "---------------------------------------------------\n",
      "13.19\n",
      "RED\n",
      "[429, 163, 85, 518, 58]\n",
      "86\n",
      "254\n",
      "69\n",
      "498\n",
      "497\n",
      "[122, 61, 57, 268, 2]\n",
      "516\n",
      "59\n",
      "103\n",
      "145\n",
      "12\n",
      "---------------------------------------------------\n",
      "13.19\n",
      "BLUE\n",
      "[51, 59, 64, 254, 68]\n",
      "58\n",
      "57\n",
      "61\n",
      "119\n",
      "888\n",
      "[518, 429, 897, 24, 555]\n",
      "126\n",
      "526\n",
      "268\n",
      "110\n",
      "12\n",
      "---------------------------------------------------\n",
      "13.19\n",
      "BLUE\n",
      "[518, 498, 526, 58, 897]\n",
      "68\n",
      "78\n",
      "268\n",
      "145\n",
      "89\n",
      "[57, 61, 254, 111, 53]\n",
      "516\n",
      "163\n",
      "126\n",
      "429\n",
      "12\n",
      "---------------------------------------------------\n",
      "13.19\n",
      "BLUE\n",
      "[78, 429, 64, 12, 234]\n",
      "24\n",
      "59\n",
      "268\n",
      "498\n",
      "497\n",
      "[61, 68, 57, 134, 518]\n",
      "58\n",
      "163\n",
      "126\n",
      "81\n",
      "526\n",
      "---------------------------------------------------\n",
      "13.19\n",
      "BLUE\n",
      "[68, 268, 61, 58, 254]\n",
      "897\n",
      "57\n",
      "126\n",
      "498\n",
      "526\n",
      "[24, 429, 518, 12, 111]\n",
      "266\n",
      "154\n",
      "163\n",
      "145\n",
      "497\n",
      "---------------------------------------------------\n",
      "13.19\n",
      "BLUE\n",
      "[115, 518, 64, 85, 888]\n",
      "24\n",
      "113\n",
      "61\n",
      "235\n",
      "223\n",
      "[126, 268, 78, 145, 498]\n",
      "897\n",
      "234\n",
      "134\n",
      "429\n",
      "526\n",
      "---------------------------------------------------\n",
      "13.19\n",
      "RED\n",
      "[429, 57, 498, 78, 897]\n",
      "58\n",
      "113\n",
      "134\n",
      "145\n",
      "497\n",
      "[163, 61, 59, 777, 517]\n",
      "24\n",
      "64\n",
      "268\n",
      "18\n",
      "12\n",
      "---------------------------------------------------\n",
      "13.19\n",
      "BLUE\n",
      "[57, 122, 61, 2, 86]\n",
      "150"
     ]
    },
    {
     "data": {
      "text/html": [
       "<b>limit_output extension: Maximum message size of 1500 exceeded with 11584 characters</b>"
      ]
     },
     "metadata": {},
     "output_type": "display_data"
    }
   ],
   "source": [
    "# Testing\n",
    "list_banpicks(\"2023 Season World Championship/Main Event\")"
   ]
  },
  {
   "cell_type": "code",
   "execution_count": 11,
   "id": "a46effdc",
   "metadata": {
    "ExecuteTime": {
     "end_time": "2024-02-09T14:07:40.096465Z",
     "start_time": "2024-02-09T14:02:19.929132Z"
    },
    "scrolled": true
   },
   "outputs": [
    {
     "name": "stdout",
     "output_type": "stream",
     "text": [
      "781\n"
     ]
    }
   ],
   "source": [
    "# Determining how many tournaments listed on the website are missing key identifying information\n",
    "count=0\n",
    "tournaments = lolp.get_tournaments()\n",
    "for tournament in tournaments:\n",
    "    if len(lolp.get_games(tournament.overviewPage)) != 0:\n",
    "        count+=1\n",
    "\n",
    "print(count)"
   ]
  },
  {
   "cell_type": "code",
   "execution_count": 12,
   "id": "2273b449",
   "metadata": {
    "ExecuteTime": {
     "end_time": "2024-02-09T14:12:37.159577Z",
     "start_time": "2024-02-09T14:07:40.098539Z"
    },
    "scrolled": true
   },
   "outputs": [
    {
     "name": "stdout",
     "output_type": "stream",
     "text": [
      "Intel Arabian Cup 2020\n",
      "Battle of the Atlantic 2013\n",
      "Demacia Cup 2019\n",
      "Demacia Cup 2020\n",
      "Demacia Cup 2021\n",
      "Demacia Cup 2022\n",
      "Demacia Cup 2023\n",
      "DreamHack Summer 2012\n",
      "World Cyber Arena 2015\n"
     ]
    }
   ],
   "source": [
    "# Find all tournaments without missing names\n",
    "tournaments = lolp.get_tournaments()\n",
    "for tournament in tournaments:\n",
    "    if len(lolp.get_games(tournament.name)) != 0:\n",
    "        print(tournament.name)"
   ]
  },
  {
   "cell_type": "code",
   "execution_count": 13,
   "id": "676fe7d7",
   "metadata": {
    "ExecuteTime": {
     "end_time": "2024-02-09T14:18:08.128862Z",
     "start_time": "2024-02-09T14:12:37.165604Z"
    },
    "scrolled": true
   },
   "outputs": [
    {
     "name": "stdout",
     "output_type": "stream",
     "text": [
      "['Gamescom 2013/International Wildcard Tournament', '2014 Season International Wild Card Tournament', 'CBLOL/2014 Season/Regional Finals', 'Latin America Cup 2015/LAN/Closing Cup/Regular Season', 'Latin America Cup 2015/LAN/Closing Cup/Playoffs', 'Latin America Cup 2015/LAN/Closing Cup/Promotion', 'Latin America Cup 2015/LAN/Opening Cup/Regular Season', 'Latin America Cup 2015/LAN/Opening Cup/Playoffs', 'Latin America Cup/LAN/2016 Season/Closing Cup/Regular Season', 'Latin America Cup/LAN/2016 Season/Closing Cup/Playoffs', 'Latin America Cup/LAN/2016 Season/Closing Cup/Promotion', 'Latin America Cup/LAN/2016 Season/Opening Cup/Regular Season', 'Latin America Cup/LAN/2016 Season/Opening Cup/Playoffs', 'Latin America Cup/LAN/2016 Season/Opening Cup/Promotion', 'IEM Season 11/Challenger', 'Intel Arabian Cup 2020', '2015 International Wildcard Tournament/Chile', '2015 International Wildcard Tournament/Turkey', 'Riot Latin America Cup 2014/Colombia', 'Latin America Cup 2015/Closing Cup/Grand Final', 'Latin America Cup 2015/Opening Cup/Grand Final', 'Season 3 Latin America Regional Finals', 'LoL Championship Malaysia/2018 Season/Spring Season', 'LoL Championship Malaysia/2018 Season/Spring Playoffs', '2012 MLG Pro Circuit/Fall/Championship', 'OnGameNet LoL Invitational', 'Rift Rivals 2018/LLN-CLS-CBLOL', 'Rift Rivals 2018/SEA-LJL-OPL', 'SEA Tour/2018 Season/Summer', 'SEA Tour/2018 Season/Summer Qualifiers/Indonesia', 'SEA Tour/2018 Season/Summer Qualifiers/Malaysia', 'PPGL/2018 Sea"
     ]
    },
    {
     "data": {
      "text/html": [
       "<b>limit_output extension: Maximum message size of 1500 exceeded with 27794 characters</b>"
      ]
     },
     "metadata": {},
     "output_type": "display_data"
    }
   ],
   "source": [
    "# Collect all available game data\n",
    "t_with_data = []\n",
    "tournaments = lolp.get_tournaments()\n",
    "for tournament in tournaments:\n",
    "    if len(lolp.get_games(tournament.overviewPage)) != 0:\n",
    "        t_with_data.append(tournament.overviewPage)\n",
    "print(t_with_data)"
   ]
  },
  {
   "cell_type": "code",
   "execution_count": 14,
   "id": "6f8a1113",
   "metadata": {
    "ExecuteTime": {
     "end_time": "2024-02-09T14:18:08.726791Z",
     "start_time": "2024-02-09T14:18:08.132852Z"
    },
    "scrolled": true
   },
   "outputs": [
    {
     "name": "stdout",
     "output_type": "stream",
     "text": [
      "None\n",
      "RED\n",
      "[30, 60, 4]\n",
      "58\n",
      "59\n",
      "79\n",
      "81\n",
      "412\n",
      "[61, 37, 28]\n",
      "98\n",
      "254\n",
      "238\n",
      "42\n",
      "9\n",
      "---------------------------------------------------\n",
      "None\n",
      "BLUE\n",
      "[105, 85, 98]\n",
      "60\n",
      "64\n",
      "103\n",
      "67\n",
      "143\n",
      "[61, 51, 238]\n",
      "54\n",
      "254\n",
      "50\n",
      "42\n",
      "412\n",
      "---------------------------------------------------\n",
      "None\n",
      "RED\n",
      "[83, 61, 58]\n",
      "68\n",
      "60\n",
      "105\n",
      "42\n",
      "37\n",
      "[238, 98, 412]\n",
      "85\n",
      "266\n",
      "103\n",
      "51\n",
      "143\n",
      "---------------------------------------------------\n",
      "None\n",
      "BLUE\n",
      "[37, 61, 98]\n",
      "154\n",
      "60\n",
      "103\n",
      "67\n",
      "143\n",
      "[85, 4, 238]\n",
      "58\n",
      "59\n",
      "105\n",
      "42\n",
      "412\n",
      "---------------------------------------------------\n",
      "None\n",
      "BLUE\n",
      "[254, 412, 98]\n",
      "58\n",
      "64\n",
      "61\n",
      "42\n",
      "143\n",
      "[238, 103, 105]\n",
      "85\n",
      "59\n",
      "79\n",
      "51\n",
      "267\n",
      "---------------------------------------------------\n",
      "None\n",
      "BLUE\n",
      "[38, 22, 103]\n",
      "75\n",
      "254\n",
      "61\n",
      "42\n",
      "143\n",
      "[98, 238, 4]\n",
      "83\n",
      "60\n",
      "127\n",
      "51\n",
      "37\n",
      "---------------------------------------------------\n",
      "None\n",
      "BLUE\n",
      "[59, 64, 412]\n",
      "58\n",
      "266\n",
      "103\n",
      "42\n",
      "37\n",
      "[98, 238, 61]\n",
      "154\n",
      "56\n",
      "131\n",
      "81\n",
      "9\n",
      "---------------------------------------------------\n",
      "None\n",
      "BLUE\n",
      "[85, 42, 143]\n",
      "27\n",
      "59\n",
      "13\n",
      "51\n",
      "412\n",
      "[238, 64, 67]\n",
      "98\n",
      "254\n",
      "103\n",
      "81\n",
      "37\n",
      "---------------------------------------------------\n",
      "None\n",
      "RED\n",
      "[38, 103, 105]\n",
      "59\n",
      "64\n",
      "61\n",
      "42\n",
      "143\n",
      "[412, 37, 238]\n",
      "98\n",
      "266\n",
      "131\n",
      "51\n",
      "89\n",
      "---------------------------------------------------\n",
      "None\n",
      "BLUE\n",
      "[51, 64, 412]\n",
      "98\n",
      "28\n",
      "103\n",
      "96\n",
      "37\n",
      "[266, 238, 42]\n",
      "27\n",
      "59\n",
      "13\n",
      "67\n",
      "143\n",
      "---------------------------------------------------\n",
      "None\n",
      "RED\n",
      "[27, 64, 238]\n",
      "58\n",
      "75\n",
      "13\n",
      "67\n",
      "412\n",
      "[37, 143, 103]\n",
      "98\n",
      "60\n",
      "126\n",
      "81\n",
      "9\n",
      "---------------------------------------------------\n",
      "None\n",
      "RED\n",
      "[38, 28, 42]\n",
      "60\n",
      "254\n",
      "61\n",
      "51\n",
      "143\n",
      "[238, 103, 98]\n",
      "266\n",
      "64\n",
      "4\n",
      "96\n",
      "37\n",
      "---------------------------------------------------\n",
      "None\n",
      "RED\n",
      "[38, 103, 105]\n",
      "98\n",
      "60\n"
     ]
    },
    {
     "data": {
      "text/html": [
       "<b>limit_output extension: Maximum message size of 1500 exceeded with 7730 characters</b>"
      ]
     },
     "metadata": {},
     "output_type": "display_data"
    }
   ],
   "source": [
    "list_banpicks('Season 3 World Championship')"
   ]
  },
  {
   "cell_type": "code",
   "execution_count": 15,
   "id": "78bfee8a",
   "metadata": {
    "ExecuteTime": {
     "end_time": "2024-02-09T14:18:09.149730Z",
     "start_time": "2024-02-09T14:18:08.733774Z"
    },
    "scrolled": true
   },
   "outputs": [
    {
     "data": {
      "text/plain": [
       "[61, 37, 28]"
      ]
     },
     "execution_count": 15,
     "metadata": {},
     "output_type": "execute_result"
    }
   ],
   "source": [
    "dataclasses.asdict(lolp.get_games('Season 3 World Championship')[0])[\"teams\"][\"RED\"][\"bans\"]"
   ]
  },
  {
   "cell_type": "code",
   "execution_count": 16,
   "id": "9fa611ff",
   "metadata": {
    "ExecuteTime": {
     "end_time": "2024-02-09T14:18:09.204483Z",
     "start_time": "2024-02-09T14:18:09.153720Z"
    },
    "scrolled": true
   },
   "outputs": [],
   "source": [
    "# Function that extracts all relevant information for each game\n",
    "def store_banpicks(tournament):\n",
    "\n",
    "    tournament_name = []\n",
    "    date = []\n",
    "    duration = []\n",
    "    \n",
    "    game_id = []\n",
    "    champion_id = []\n",
    "    patch = []\n",
    "    side = []\n",
    "    ban_pick = []\n",
    "    win_lose = []\n",
    "    details = lolp.get_games(tournament)\n",
    "    for i in range(len(details)):\n",
    "        cur_dict = dataclasses.asdict(details[i])\n",
    "        \n",
    "        # Blue side bans\n",
    "        for j in range(len(cur_dict[\"teams\"][\"BLUE\"][\"bans\"])):\n",
    "            game_id.append(i)\n",
    "            tournament_name.append(tournament)\n",
    "            date.append(cur_dict[\"start\"][:10])\n",
    "            duration.append(cur_dict[\"duration\"])\n",
    "            patch.append(cur_dict[\"patch\"])\n",
    "            \n",
    "            champion_id.append(cur_dict[\"teams\"][\"BLUE\"][\"bans\"][j])\n",
    "            side.append(\"BLUE\")\n",
    "            ban_pick.append(\"BAN\")\n",
    "            if cur_dict[\"winner\"] == \"BLUE\":\n",
    "                win_lose.append(\"WIN\")\n",
    "            else:\n",
    "                win_lose.append(\"LOSE\")\n",
    "                \n",
    "        # Red side bans\n",
    "        for k in range(len(cur_dict[\"teams\"][\"RED\"][\"bans\"])):\n",
    "            game_id.append(i)\n",
    "            tournament_name.append(tournament)\n",
    "            date.append(cur_dict[\"start\"][:10])\n",
    "            duration.append(cur_dict[\"duration\"])\n",
    "            patch.append(cur_dict[\"patch\"])\n",
    "            \n",
    "            champion_id.append(cur_dict[\"teams\"][\"RED\"][\"bans\"][k])\n",
    "            side.append(\"RED\")\n",
    "            ban_pick.append(\"BAN\")\n",
    "            if cur_dict[\"winner\"] == \"RED\":\n",
    "                win_lose.append(\"WIN\")\n",
    "            else:\n",
    "                win_lose.append(\"LOSE\")\n",
    "                \n",
    "        # Blue side picks\n",
    "        for l in range(5):\n",
    "            game_id.append(i)\n",
    "            tournament_name.append(tournament)\n",
    "            date.append(cur_dict[\"start\"][:10])\n",
    "            duration.append(cur_dict[\"duration\"])\n",
    "            patch.append(cur_dict[\"patch\"])\n",
    "            \n",
    "            champion_id.append(cur_dict[\"teams\"][\"BLUE\"][\"players\"][l][\"championId\"])\n",
    "            side.append(\"BLUE\")\n",
    "            ban_pick.append(\"PICK\")\n",
    "            if cur_dict[\"winner\"] == \"BLUE\":\n",
    "                win_lose.append(\"WIN\")\n",
    "            else:\n",
    "                win_lose.append(\"LOSE\")\n",
    "\n",
    "        # Red side picks\n",
    "        for m in range(5):\n",
    "            game_id.append(i)\n",
    "            tournament_name.append(tournament)\n",
    "            date.append(cur_dict[\"start\"][:10])\n",
    "            duration.append(cur_dict[\"duration\"])\n",
    "            patch.append(cur_dict[\"patch\"])\n",
    "            \n",
    "            champion_id.append(cur_dict[\"teams\"][\"RED\"][\"players\"][m][\"championId\"])\n",
    "            side.append(\"RED\")\n",
    "            ban_pick.append(\"PICK\")\n",
    "            if cur_dict[\"winner\"] == \"RED\":\n",
    "                win_lose.append(\"WIN\")\n",
    "            else:\n",
    "                win_lose.append(\"LOSE\")\n",
    "        \n",
    "    df = pd.DataFrame({\"champion_id\": champion_id, \"patch\": patch, \"side\": side, \n",
    "                        \"ban_pick\": ban_pick, \"win_lose\": win_lose, \"tournament\": tournament_name, \n",
    "                        \"game_id\": game_id, \"date\": date, \"duration\": duration})\n",
    "        \n",
    "    return df"
   ]
  },
  {
   "cell_type": "code",
   "execution_count": 17,
   "id": "c457492e",
   "metadata": {
    "ExecuteTime": {
     "end_time": "2024-02-09T14:18:09.689761Z",
     "start_time": "2024-02-09T14:18:09.210466Z"
    },
    "scrolled": true
   },
   "outputs": [
    {
     "data": {
      "text/html": [
       "<div>\n",
       "<style scoped>\n",
       "    .dataframe tbody tr th:only-of-type {\n",
       "        vertical-align: middle;\n",
       "    }\n",
       "\n",
       "    .dataframe tbody tr th {\n",
       "        vertical-align: top;\n",
       "    }\n",
       "\n",
       "    .dataframe thead th {\n",
       "        text-align: right;\n",
       "    }\n",
       "</style>\n",
       "<table border=\"1\" class=\"dataframe\">\n",
       "  <thead>\n",
       "    <tr style=\"text-align: right;\">\n",
       "      <th></th>\n",
       "      <th>champion_id</th>\n",
       "      <th>patch</th>\n",
       "      <th>side</th>\n",
       "      <th>ban_pick</th>\n",
       "      <th>win_lose</th>\n",
       "      <th>tournament</th>\n",
       "      <th>game_id</th>\n",
       "      <th>date</th>\n",
       "      <th>duration</th>\n",
       "    </tr>\n",
       "  </thead>\n",
       "  <tbody>\n",
       "    <tr>\n",
       "      <th>0</th>\n",
       "      <td>30</td>\n",
       "      <td>None</td>\n",
       "      <td>BLUE</td>\n",
       "      <td>BAN</td>\n",
       "      <td>LOSE</td>\n",
       "      <td>Season 3 World Championship</td>\n",
       "      <td>0</td>\n",
       "      <td>2013-09-15</td>\n",
       "      <td>2221</td>\n",
       "    </tr>\n",
       "    <tr>\n",
       "      <th>1</th>\n",
       "      <td>60</td>\n",
       "      <td>None</td>\n",
       "      <td>BLUE</td>\n",
       "      <td>BAN</td>\n",
       "      <td>LOSE</td>\n",
       "      <td>Season 3 World Championship</td>\n",
       "      <td>0</td>\n",
       "      <td>2013-09-15</td>\n",
       "      <td>2221</td>\n",
       "    </tr>\n",
       "    <tr>\n",
       "      <th>2</th>\n",
       "      <td>4</td>\n",
       "      <td>None</td>\n",
       "      <td>BLUE</td>\n",
       "      <td>BAN</td>\n",
       "      <td>LOSE</td>\n",
       "      <td>Season 3 World Championship</td>\n",
       "      <td>0</td>\n",
       "      <td>2013-09-15</td>\n",
       "      <td>2221</td>\n",
       "    </tr>\n",
       "    <tr>\n",
       "      <th>3</th>\n",
       "      <td>61</td>\n",
       "      <td>None</td>\n",
       "      <td>RED</td>\n",
       "      <td>BAN</td>\n",
       "      <td>WIN</td>\n",
       "      <td>Season 3 World Championship</td>\n",
       "      <td>0</td>\n",
       "      <td>2013-09-15</td>\n",
       "   "
      ],
      "text/plain": [
       "      champion_id patch  side ban_pick win_lose                   tournament  \\\n",
       "0              30  None  BLUE      BAN     LOSE  Season 3 World Championship   \n",
       "1              60  None  BLUE      BAN     LOSE  Season 3 World Championship   \n",
       "2               4  None  BLUE      BAN     LOSE  Season 3 World Championship   \n",
       "3              61  None   RED      BAN      WIN  Season 3 World Championship   \n",
       "4              37  None   RED      BAN      WIN  Season 3 World Championship   \n",
       "5              28  None   RED      BAN      WIN  Season 3 World Championship   \n",
       "6              58  None  BLUE     PICK     LOSE  Season 3 World Championship   \n",
       "7              59  None  BLUE     PICK     LOSE  Season 3 World Championship   \n",
       "8              79  None  BLUE     PICK     LOSE  Season 3 World Championship   \n",
       "9              81  None  BLUE     PICK     LOSE  Season 3 World Championship   \n",
       "10            412  None  BLUE     PICK     LOSE  Season 3 World Championship   \n",
       "11             98  None   RED     PICK      WIN  Season 3 World Championship   \n",
       "12            254  None   RED     PICK      WIN  Season 3 World Championship   \n",
       "13            238  None   RED     PICK      WIN  Season 3 World Championship   \n",
       "14             42  None   RED     PICK      WIN  Season 3 World Championship   \n",
       "15              9  None   RED     PICK      WIN  Season 3 World Championship   \n",
       "16            105  None  BLUE      BAN      WIN  Season 3 World Championship   \n",
       "17             85  None  BLUE      BAN      WIN  Season 3 Wo"
      ]
     },
     "execution_count": 17,
     "metadata": {},
     "output_type": "execute_result"
    },
    {
     "data": {
      "text/html": [
       "<b>limit_output extension: Maximum message size of 1500 exceeded with 15286 characters</b>"
      ]
     },
     "metadata": {},
     "output_type": "display_data"
    }
   ],
   "source": [
    "# Testing \n",
    "df_worlds_s3 = store_banpicks('Season 3 World Championship')\n",
    "df_worlds_s3"
   ]
  },
  {
   "cell_type": "code",
   "execution_count": 28,
   "id": "79062125",
   "metadata": {
    "ExecuteTime": {
     "end_time": "2024-02-09T15:00:33.714405Z",
     "start_time": "2024-02-09T14:55:05.499965Z"
    },
    "scrolled": true
   },
   "outputs": [],
   "source": [
    "# Storing all relevant data in a single dataframe\n",
    "df = pd.DataFrame()\n",
    "for t in t_with_data:\n",
    "    cur_df = store_banpicks(t)\n",
    "    df = pd.concat([df, cur_df])\n",
    "df.reset_index(inplace=True)\n",
    "df.drop(\"index\", axis=1, inplace=True)"
   ]
  },
  {
   "cell_type": "code",
   "execution_count": 29,
   "id": "c35daebf",
   "metadata": {
    "ExecuteTime": {
     "end_time": "2024-02-09T15:01:19.195999Z",
     "start_time": "2024-02-09T15:01:18.034578Z"
    },
    "scrolled": true
   },
   "outputs": [],
   "source": [
    "# Download up-to-date champion ID information from online\n",
    "# can switch to show updated version\n",
    "version = \"13.11.1\"\n",
    "version_2 = \"13.23.1\"\n",
    "champion_list = pd.read_json(f\"https://ddragon.leagueoflegends.com/cdn/{version_2}/data/en_US/champion.json\")\n",
    "\n",
    "champion_list.drop([\"type\", \"format\", \"version\"], axis=1, inplace=True)\n",
    "champion_list[\"id\"] = \"\"\n",
    "\n",
    "for champ in champion_list.index:\n",
    "    champion_list[\"id\"][champ] = int(champion_list.loc[champ, \"data\"][\"key\"])\n",
    "\n",
    "champion_list.drop(\"data\", axis=1, inplace=True)\n",
    "champion_list = champion_list.reset_index().rename(columns={\"index\": \"Champion\"})\n",
    "# champion_list.to_csv(\"Champ_IDs.csv\")"
   ]
  },
  {
   "cell_type": "code",
   "execution_count": 30,
   "id": "afbc7880",
   "metadata": {
    "ExecuteTime": {
     "end_time": "2024-02-09T15:01:21.035758Z",
     "start_time": "2024-02-09T15:01:20.982567Z"
    },
    "scrolled": true
   },
   "outputs": [
    {
     "data": {
      "text/plain": [
       "array([None, '5.9', '5.10', '5.11', '5.12', '5.13', '5.2', '5.3', '5.5',\n",
       "       '6.10', '6.11', '6.12', '6.13', '6.15', '6.6', '6.1', '6.2', '6.3',\n",
       "       '6.4', '6.5', '6.21', '10.20', '10.21', '10.22', '5.15', '5.14',\n",
       "       '5.6', '3.9', '8.1', '8.2', '8.3', '8.4', '8.13', '8.15', '9.22',\n",
       "       '5.7', '6.7', '8.10', '5.21', '4.21', '5.1', '5.24', '5.20', '6.8',\n",
       "       '7.1', '7.2', '7.3', '7.4', '7.5', '7.10', '7.11', '7.12', '7.13',\n",
       "       '7.14', '7.16', '7.15', '9.1', '9.2', '9.3', '9.4', '9.5', '9.6',\n",
       "       '14.1', '14.2', '12.1', '12.2', '12.3', '12.4', '12.5', '12.10',\n",
       "       '12.11', '12.12', '12.13', '12.14', '13.1', '13.3', '13.4', '13.5',\n",
       "       '13.11', '13.12', '13.13', '13.14', '13.15', '8.5', '8.11', '8.12',\n",
       "       '8.14', '8.7', '8.16', '9.10', '9.11', '9.12', '9.13', '9.14',\n",
       "       '9.15', '9.16', '10.1', '10.2', '10.4', '10.5', '10.7', '10.8',\n",
       "       '10.11', '10.12', '10.13', '10.14', '10.15', '10.16', '11.1',\n",
       "       '11.2', '11.3', '11.4', '11.5', '11.6', '11.11', '11.12', '11.13',\n",
       "       '11.14', '11.15', '8.8', '8.6', '7.24', '7.9', '8.24', '9.23',\n",
       "       '10.25b', '11.24', '12.23', '13.24', '7.6', '6.14', '5.4', '3.15',\n",
       "       '4.1', '4.3', '4.4', '4.5', '4.7', '4.8', '4.9', '4.10', '4.11',\n",
       "       '4.12', '4.13', '4.19', '4.14', '5.23', '6.23', '6.16', '7.22',\n",
       "       '8.24b', '9.24b', '10.25', '11.23', '7.17', '8.17', '11.16',\n",
       "       '13.10', '10.3', '10.6', '10.17', '9.17', '11.7', '12.15', '13.7',\n",
       "       '12.6', '13.6', '5.8', '12.16', '9.18', '6."
      ]
     },
     "execution_count": 30,
     "metadata": {},
     "output_type": "execute_result"
    },
    {
     "data": {
      "text/html": [
       "<b>limit_output extension: Maximum message size of 1500 exceeded with 1773 characters</b>"
      ]
     },
     "metadata": {},
     "output_type": "display_data"
    }
   ],
   "source": [
    "df.patch.unique()"
   ]
  },
  {
   "cell_type": "code",
   "execution_count": 31,
   "id": "5949d3f2",
   "metadata": {
    "ExecuteTime": {
     "end_time": "2024-02-09T15:01:37.830146Z",
     "start_time": "2024-02-09T15:01:37.764062Z"
    },
    "scrolled": true
   },
   "outputs": [
    {
     "data": {
      "text/html": [
       "<div>\n",
       "<style scoped>\n",
       "    .dataframe tbody tr th:only-of-type {\n",
       "        vertical-align: middle;\n",
       "    }\n",
       "\n",
       "    .dataframe tbody tr th {\n",
       "        vertical-align: top;\n",
       "    }\n",
       "\n",
       "    .dataframe thead th {\n",
       "        text-align: right;\n",
       "    }\n",
       "</style>\n",
       "<table border=\"1\" class=\"dataframe\">\n",
       "  <thead>\n",
       "    <tr style=\"text-align: right;\">\n",
       "      <th></th>\n",
       "      <th>tournament</th>\n",
       "      <th>game_id</th>\n",
       "    </tr>\n",
       "  </thead>\n",
       "  <tbody>\n",
       "    <tr>\n",
       "      <th>0</th>\n",
       "      <td>2012 MLG Pro Circuit/Fall/Championship</td>\n",
       "      <td>560</td>\n",
       "    </tr>\n",
       "    <tr>\n",
       "      <th>1</th>\n",
       "      <td>2014 GPL Spring</td>\n",
       "      <td>1440</td>\n",
       "    </tr>\n",
       "    <tr>\n",
       "      <th>2</th>\n",
       "      <td>2014 GPL Summer</td>\n",
       "      <td>1488</td>\n",
       "    </tr>\n",
       "    <tr>\n",
       "      <th>3</th>\n",
       "      <td>2014 GPL Winter</td>\n",
       "      <td>1504</td>\n",
       "    </tr>\n",
       "    <tr>\n",
       "      <th>4</th>\n",
       "      <td>2014 Season Garena Regional Finals</td>\n",
       "      <td>192</td>\n",
       "    </tr>\n",
       "    <tr>\n",
       "      <th>5</th>\n",
       "      <td>2014 Season International Wild Card Tournament</td>\n",
       "      <td>192</td>\n",
       "    </tr>\n",
       "    <tr>\n",
       "      <th>6</th>\n",
       "      <td>2014 Season Korea Regional Finals</td>\n",
       "      <td>208</td>\n",
       "    </tr>\n",
       "    <tr>\n",
       "      <th>7</th>\n",
       "      <td>2015 Demacia Cup/Spring Season</td>\n",
       "      <td>1664</td>\n",
       "    </tr>\n",
       "    <tr>\n",
       "      <th>8</th>\n",
       "      <td>2015 Demacia Cup/Summer Season</td>\n",
       "      <td>1504</td>\n",
       "    </tr>\n",
       "    <tr>\n",
       "      <th>9</th>\n",
       "      <td>2015 GPL Spring</td>\n",
       "      <td>2304</td>\n",
       "    </tr>\n",
       "    <tr>\n",
       "      <th>10</th>\n",
       "      <td>2015 GPL Spring Playoffs</td>\n",
       "      <td>240</td>\n",
       "    </tr>\n",
       "   "
      ],
      "text/plain": [
       "                                            tournament  game_id\n",
       "0               2012 MLG Pro Circuit/Fall/Championship      560\n",
       "1                                      2014 GPL Spring     1440\n",
       "2                                      2014 GPL Summer     1488\n",
       "3                                      2014 GPL Winter     1504\n",
       "4                   2014 Season Garena Regional Finals      192\n",
       "5       2014 Season International Wild Card Tournament      192\n",
       "6                    2014 Season Korea Regional Finals      208\n",
       "7                       2015 Demacia Cup/Spring Season     1664\n",
       "8                       2015 Demacia Cup/Summer Season     1504\n",
       "9                                      2015 GPL Spring     2304\n",
       "10                            2015 GPL Spring Playoffs      240\n",
       "11                                     2015 GPL Summer     1232\n",
       "12                            2015 GPL Summer Playoffs       96\n",
       "13          2015 Season Southeast Asia Regional Finals      256\n",
       "14                         Battle of the Atlantic 2013      160\n",
       "15                  CBLOL/2014 Season/Champions Series      352\n",
       "16                   CBLOL/2014 Season/Regional Finals      288\n",
       "17                  CBLOL/2015 Season/Split 1 Playoffs      336\n",
       "18                  CBLOL/2015 Season/Split 2 Playoffs      336\n",
       "19                 CBLOL/2015 Season/Split 2 Promotion      176\n",
       "20                        Champions/2012 Season/Spring      704\n",
       "21                        Champions/2012 Season/Summer      736\n",
       "22                        Ch"
      ]
     },
     "execution_count": 31,
     "metadata": {},
     "output_type": "execute_result"
    },
    {
     "data": {
      "text/html": [
       "<b>limit_output extension: Maximum message size of 1500 exceeded with 6760 characters</b>"
      ]
     },
     "metadata": {},
     "output_type": "display_data"
    }
   ],
   "source": [
    "# Some tournaments are missing patch information. The game has constant updates that change the meta,\n",
    "# so identifying the right pacth each game is played on is crucial.\n",
    "df[df[\"patch\"].isnull()==True].groupby(\n",
    "    [\"tournament\"])[\"game_id\"].count().reset_index()"
   ]
  },
  {
   "cell_type": "code",
   "execution_count": null,
   "id": "c9451d02",
   "metadata": {
    "ExecuteTime": {
     "end_time": "2024-02-09T13:36:07.194113Z",
     "start_time": "2024-02-09T13:36:07.194113Z"
    },
    "scrolled": true
   },
   "outputs": [],
   "source": [
    "# I tried to find out what patch each tournament was played on for ones with missing patch info.\n",
    "# Most were part of ongoing seasons that spanned multiple patches while the rest did not have available \n",
    "# info. For these cases, I have decided to automatically fill in patch info using the date of the game."
   ]
  },
  {
   "cell_type": "code",
   "execution_count": 32,
   "id": "039c203c",
   "metadata": {
    "ExecuteTime": {
     "end_time": "2024-02-09T15:02:02.278436Z",
     "start_time": "2024-02-09T15:02:02.236319Z"
    },
    "scrolled": true
   },
   "outputs": [
    {
     "data": {
      "text/html": [
       "<div>\n",
       "<style scoped>\n",
       "    .dataframe tbody tr th:only-of-type {\n",
       "        vertical-align: middle;\n",
       "    }\n",
       "\n",
       "    .dataframe tbody tr th {\n",
       "        vertical-align: top;\n",
       "    }\n",
       "\n",
       "    .dataframe thead th {\n",
       "        text-align: right;\n",
       "    }\n",
       "</style>\n",
       "<table border=\"1\" class=\"dataframe\">\n",
       "  <thead>\n",
       "    <tr style=\"text-align: right;\">\n",
       "      <th></th>\n",
       "      <th>index</th>\n",
       "      <th>Date</th>\n",
       "      <th>Season</th>\n",
       "      <th>Patch</th>\n",
       "      <th>New_Champs</th>\n",
       "      <th>Note</th>\n",
       "    </tr>\n",
       "  </thead>\n",
       "  <tbody>\n",
       "    <tr>\n",
       "      <th>0</th>\n",
       "      <td>0</td>\n",
       "      <td>12/6/2023</td>\n",
       "      <td>Season thirteen</td>\n",
       "      <td>13.24</td>\n",
       "      <td>Hwei</td>\n",
       "      <td>Winterblessed 2023 skins. Magicae Prismatica s...</td>\n",
       "    </tr>\n",
       "    <tr>\n",
       "      <th>1</th>\n",
       "      <td>1</td>\n",
       "      <td>11/21/2023</td>\n",
       "      <td>Season thirteen</td>\n",
       "      <td>13.23</td>\n",
       "      <td>NaN</td>\n",
       "      <td>Bees 2023 skins. Various balance changes.</td>\n",
       "    </tr>\n",
       "    <tr>\n",
       "      <th>2</th>\n",
       "      <td>2</td>\n",
       "      <td>11/8/2023</td>\n",
       "      <td>Season thirteen</td>\n",
       "      <td>13.22</td>\n",
       "      <td>NaN</td>\n",
       "      <td>HEARTSTEEL skins. True Damage 2023 skin. Vario...</td>\n",
       "    </tr>\n",
       "    <tr>\n",
       "      <th>3</th>\n",
       "      <td>3</td>\n",
       "      <td>10/25/2023</td>\n",
       "      <td>Season thirteen</td>\n",
       "      <td>13.21</td>\n",
       "      <td>NaN</td>\n",
       "      <td>2023 Cafe Cuties skins. Return of Nexus Blitz....</td>\n",
       "    </tr>\n",
       "    <tr>\n",
       "      <th>4</th>\n",
       "      <td>4</td>\n",
       "      <td>10/11/2023</td>\n",
       "      <td>Season thirteen</td>\n",
       "      <td>13.2</td>\n",
       "      <td>NaN</td>\n",
       "      <td>Visua"
      ],
      "text/plain": [
       "     index        Date               Season        Patch        New_Champs  \\\n",
       "0        0   12/6/2023      Season thirteen        13.24              Hwei   \n",
       "1        1  11/21/2023      Season thirteen        13.23               NaN   \n",
       "2        2   11/8/2023      Season thirteen        13.22               NaN   \n",
       "3        3  10/25/2023      Season thirteen        13.21               NaN   \n",
       "4        4  10/11/2023      Season thirteen         13.2               NaN   \n",
       "5        5   9/27/2023      Season thirteen        13.19               NaN   \n",
       "6        6   9/13/2023      Season thirteen        13.18             Briar   \n",
       "7        7   8/30/2023      Season thirteen        13.17               NaN   \n",
       "8        8   8/16/2023      Season thirteen        13.16               NaN   \n",
       "9        9    8/2/2023      Season thirteen        13.15               NaN   \n",
       "10      10   7/19/2023      Season thirteen        13.14           Naafiri   \n",
       "11      11   6/28/2023      Season thirteen        13.13               NaN   \n",
       "12      12   6/14/2023      Season thirteen        13.12               NaN   \n",
       "13      13    6/1/2023      Season thirteen        13.11               NaN   \n",
       "14      14   5/17/2023      Season thirteen         13.1               NaN   \n",
       "15      15    5/3/2023      Season thirteen         13.9               NaN   \n",
       "16      16   4/19/2023      Season thirteen         13.8               NaN   \n",
       "17      17    4/5/2023      Season thirteen         13.7               NaN   \n",
       "18      18   3/22/"
      ]
     },
     "execution_count": 32,
     "metadata": {},
     "output_type": "execute_result"
    },
    {
     "data": {
      "text/html": [
       "<b>limit_output extension: Maximum message size of 1500 exceeded with 12965 characters</b>"
      ]
     },
     "metadata": {},
     "output_type": "display_data"
    }
   ],
   "source": [
    "# The code commented out below cleans the patch notes information. Just use cleaned csv unless new\n",
    "# patches are needed.\n",
    "patch_notes = pd.read_csv(\"lol_patch_notes.csv\")\n",
    "# for i in range(185):\n",
    "#     patch_notes.Date[i] = patch_notes.Date[i][:-4]\n",
    "# for i in range(185, 321):\n",
    "#     patch_notes.Date[i] = patch_notes.Date[i][:-7]\n",
    "# for i in range(321):\n",
    "#     patch_notes.Date[i] = patch_notes.Date[i].replace('\\n', ' ').strip()\n",
    "# patch_notes.Date[257] = \"June 17 2012\"\n",
    "\n",
    "# for converting str to datetime, pd.to_datetime converts to timestamp obj, which is faster \n",
    "# (and better than converting to dt.datetime obj)\n",
    "# for i in range(321):\n",
    "#     patch_notes.Date[i] = dt.strptime(patch_notes.Date[i], \"%B %d %Y\").date()\n",
    "    \n",
    "# patch_notes.Date = pd.to_datetime(patch_notes.Date, format=\"%B %d %Y\")\n",
    "patch_notes"
   ]
  },
  {
   "cell_type": "code",
   "execution_count": null,
   "id": "342482e8",
   "metadata": {
    "ExecuteTime": {
     "end_time": "2024-02-09T13:36:07.196107Z",
     "start_time": "2024-02-09T13:36:07.196107Z"
    },
    "scrolled": true
   },
   "outputs": [],
   "source": [
    "df.date = pd.to_datetime(df.date)"
   ]
  },
  {
   "cell_type": "code",
   "execution_count": null,
   "id": "4b6e061f",
   "metadata": {
    "ExecuteTime": {
     "end_time": "2024-02-09T13:36:07.198102Z",
     "start_time": "2024-02-09T13:36:07.198102Z"
    },
    "scrolled": true
   },
   "outputs": [],
   "source": [
    "# Info on the patch of tournaments that I found online.\n",
    "update_patch = pd.DataFrame({\"tournament\": \n",
    "                              ['2012 MLG Pro Circuit/Fall/Championship',\n",
    "                                '2014 Season Garena Regional Finals',\n",
    "                                '2014 Season International Wild Card Tournament',\n",
    "                                '2015 GPL Summer Playoffs',\n",
    "                                'Battle of the Atlantic 2013',\n",
    "                                'Gamescom 2013/International Wildcard Tournament',\n",
    "                                'Latin America Cup 2015/LAN/Closing Cup/Promotion',\n",
    "                                'Season 3 China Regional Finals',\n",
    "                                'Season 3 Korea Regional Finals',\n",
    "                                'Season 3 Latin America Regional Finals',\n",
    "                                'Season 3 World Championship'], \n",
    "                              \"patch\": \n",
    "                              ['1.0.0.148',\n",
    "                                '4.13',\n",
    "                                '4.13',\n",
    "                                '5.14',\n",
    "                                '3.14',\n",
    "                                '3.1',\n",
    "                                '5.12',\n",
    "                                '3.9',\n",
    "                                '3.9',\n",
    "                                '3.9',\n",
    "                                '3.11']})\n",
    "update_patch.to_csv(\"leaguepedia_some_missing_patch_info.csv\")"
   ]
  },
  {
   "cell_type": "code",
   "execution_count": null,
   "id": "4bf26d3a",
   "metadata": {
    "ExecuteTime": {
     "end_time": "2024-02-09T13:36:07.199099Z",
     "start_time": "2024-02-09T13:36:07.199099Z"
    },
    "scrolled": true
   },
   "outputs": [],
   "source": [
    "df3 = pd.DataFrame(df.groupby(\"patch\")[\"game_id\"].count()).reset_index()\n",
    "for i in range(len(df3)):\n",
    "    df3.loc[i, \"patch\"] = str(df3.loc[i, \"patch\"]) "
   ]
  },
  {
   "cell_type": "code",
   "execution_count": null,
   "id": "429639dd",
   "metadata": {
    "ExecuteTime": {
     "end_time": "2024-02-09T13:36:07.201094Z",
     "start_time": "2024-02-09T13:36:07.201094Z"
    },
    "scrolled": true
   },
   "outputs": [],
   "source": [
    "pd.DataFrame(df.groupby(\"patch\")[\"game_id\"].count()).reset_index()"
   ]
  },
  {
   "cell_type": "code",
   "execution_count": null,
   "id": "0a58cba1",
   "metadata": {
    "ExecuteTime": {
     "end_time": "2024-02-09T13:36:07.202091Z",
     "start_time": "2024-02-09T13:36:07.202091Z"
    },
    "scrolled": true
   },
   "outputs": [],
   "source": [
    "# update main df patch info with info found online.\n",
    "df2 = df.copy()\n",
    "for i in df2[df2[\"patch\"].isnull()==True].index:\n",
    "    for j in range(len(update_patch)):\n",
    "        if df2.loc[i, \"tournament\"] == update_patch.loc[j, \"tournament\"]:\n",
    "            df2.loc[i, \"patch\"] = update_patch.loc[j, \"patch\"]"
   ]
  },
  {
   "cell_type": "code",
   "execution_count": null,
   "id": "8e6bfeca",
   "metadata": {
    "ExecuteTime": {
     "end_time": "2024-02-09T13:36:07.204086Z",
     "start_time": "2024-02-09T13:36:07.204086Z"
    },
    "scrolled": true
   },
   "outputs": [],
   "source": [
    "# update main df patch info by comparing game dates with patch dates (not necessarily accurate).\n",
    "\n",
    "# took 34 minutes to execute\n",
    "for i in df2[df2[\"patch\"].isnull()==True].index:\n",
    "    for j in range(len(patch_notes)):\n",
    "        if df2.date[i] >= patch_notes.Date[j]:\n",
    "            df2.loc[i, \"patch\"] = patch_notes.loc[j, \"Patch\"]\n",
    "            break"
   ]
  },
  {
   "cell_type": "code",
   "execution_count": null,
   "id": "6edd4581",
   "metadata": {
    "ExecuteTime": {
     "end_time": "2024-02-09T13:36:07.205083Z",
     "start_time": "2024-02-09T13:36:07.205083Z"
    },
    "scrolled": true
   },
   "outputs": [],
   "source": [
    "# drop rows with missing champion_id info (==0)\n",
    "df2.drop(df2[df2[\"champion_id\"]==0].index, axis=0, inplace=True)\n",
    "df2.reset_index(inplace=True)\n",
    "df2.drop([\"index\"], axis=1, inplace=True)"
   ]
  },
  {
   "cell_type": "code",
   "execution_count": null,
   "id": "adfe0529",
   "metadata": {
    "ExecuteTime": {
     "end_time": "2024-02-09T13:36:07.206081Z",
     "start_time": "2024-02-09T13:36:07.206081Z"
    },
    "scrolled": true
   },
   "outputs": [],
   "source": [
    "# df2.to_csv(\"pick_bans_updated.csv\")"
   ]
  },
  {
   "cell_type": "code",
   "execution_count": null,
   "id": "71fce68b",
   "metadata": {
    "ExecuteTime": {
     "end_time": "2024-02-09T13:36:07.208076Z",
     "start_time": "2024-02-09T13:36:07.208076Z"
    },
    "scrolled": true
   },
   "outputs": [],
   "source": [
    "# Update the final pick_bans list\n",
    "df_update = pd.DataFrame()\n",
    "for t in t_with_data:\n",
    "    if t not in df[\"tournament\"].unique():\n",
    "        cur_df = store_banpicks(t)\n",
    "        df_update = pd.concat([df_update, cur_df])\n",
    "df_update.reset_index(inplace=True)\n",
    "df_update.drop(\"index\", axis=1, inplace=True)"
   ]
  },
  {
   "cell_type": "code",
   "execution_count": null,
   "id": "1db67127",
   "metadata": {
    "ExecuteTime": {
     "end_time": "2024-02-09T13:36:07.210071Z",
     "start_time": "2024-02-09T13:36:07.209072Z"
    },
    "scrolled": true
   },
   "outputs": [],
   "source": [
    "# if champion_id == 0 for BAN, it means the team did not ban a champion for that slot.\n",
    "df_update[df_update[\"champion_id\"]==0]\n",
    "df_update.drop(df_update[df_update[\"champion_id\"]==0].index, axis=0, inplace=True)\n",
    "df_update.reset_index(inplace=True)\n",
    "df_update.drop([\"index\"], axis=1, inplace=True)\n",
    "# df_update.to_csv(\"pick_bans_updated_2023nov26.csv\")"
   ]
  }
 ],
 "metadata": {
  "kernelspec": {
   "display_name": "Python 3 (ipykernel)",
   "language": "python",
   "name": "python3"
  },
  "language_info": {
   "codemirror_mode": {
    "name": "ipython",
    "version": 3
   },
   "file_extension": ".py",
   "mimetype": "text/x-python",
   "name": "python",
   "nbconvert_exporter": "python",
   "pygments_lexer": "ipython3",
   "version": "3.9.7"
  },
  "toc": {
   "base_numbering": 1,
   "nav_menu": {},
   "number_sections": true,
   "sideBar": true,
   "skip_h1_title": false,
   "title_cell": "Table of Contents",
   "title_sidebar": "Contents",
   "toc_cell": false,
   "toc_position": {},
   "toc_section_display": true,
   "toc_window_display": false
  }
 },
 "nbformat": 4,
 "nbformat_minor": 5
}
