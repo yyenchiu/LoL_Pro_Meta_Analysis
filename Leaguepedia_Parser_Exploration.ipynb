{
 "cells": [
  {
   "cell_type": "code",
   "execution_count": 1,
   "id": "24627f6b",
   "metadata": {
    "ExecuteTime": {
     "end_time": "2024-02-09T13:00:03.793180Z",
     "start_time": "2024-02-09T13:00:02.178512Z"
    },
    "scrolled": true
   },
   "outputs": [],
   "source": [
    "import numpy as np\n",
    "import pandas as pd\n",
    "from datetime import datetime as dt\n",
    "import matplotlib.pyplot as plt\n",
    "from bs4 import BeautifulSoup\n",
    "import leaguepedia_parser as lolp\n",
    "import dataclasses\n",
    "\n",
    "pd.set_option('display.min_rows', None)\n",
    "plt.style.use(\"dark_background\")"
   ]
  },
  {
   "cell_type": "code",
   "execution_count": 2,
   "id": "7eae470a",
   "metadata": {
    "ExecuteTime": {
     "end_time": "2024-02-09T13:00:03.809283Z",
     "start_time": "2024-02-09T13:00:03.795018Z"
    },
    "scrolled": true
   },
   "outputs": [
    {
     "data": {
      "text/plain": [
       "['__builtins__',\n",
       " '__cached__',\n",
       " '__doc__',\n",
       " '__file__',\n",
       " '__loader__',\n",
       " '__name__',\n",
       " '__package__',\n",
       " '__path__',\n",
       " '__spec__',\n",
       " 'get_all_team_assets',\n",
       " 'get_game_details',\n",
       " 'get_games',\n",
       " 'get_long_team_name_from_trigram',\n",
       " 'get_regions',\n",
       " 'get_team_logo',\n",
       " 'get_team_thumbnail',\n",
       " 'get_tournaments',\n",
       " 'parsers',\n",
       " 'site',\n",
       " 'transmuters']"
      ]
     },
     "execution_count": 2,
     "metadata": {},
     "output_type": "execute_result"
    }
   ],
   "source": [
    "# Learning the methods for this API\n",
    "dir(lolp)"
   ]
  },
  {
   "cell_type": "code",
   "execution_count": 3,
   "id": "8a623fee",
   "metadata": {
    "ExecuteTime": {
     "end_time": "2024-02-09T13:00:05.151366Z",
     "start_time": "2024-02-09T13:00:03.811280Z"
    },
    "scrolled": true
   },
   "outputs": [
    {
     "data": {
      "text/plain": [
       "[LeaguepediaTournament(name='LCK 2024 Season Opening', start='2024-01-09', end='2024-01-09', region='Korea', league=None, leagueShort=None, rulebook=None, tournamentLevel='Primary', isQualifier=True, isPlayoffs=True, isOfficial=True, overviewPage='LCK 2024 Season Opening'),\n",
       " LeaguepediaTournament(name='IWCT 2013', start='2013-08-21', end='2013-08-23', region='Wildcard', league='2014 International Wildcard Tournament', leagueShort=None, rulebook=None, tournamentLevel='Primary', isQualifier=True, isPlayoffs=True, isOfficial=True, overviewPage='Gamescom 2013/International Wildcard Tournament'),\n",
       " LeaguepediaTournament(name='IWCT 2014', start='2014-08-13', end='2014-09-01', region='Wildcard', league='2014 International Wildcard Tournament', leagueShort=None, rulebook=None, tournamentLevel='Primary', isQualifier=True, isPlayoffs=True, isOfficial=True, overviewPage='2014 Season International Wild Card Tournament'),\n",
       " LeaguepediaTournament(name='Brazil Regional Finals 2014', start='2014-07-18',"
      ]
     },
     "execution_count": 3,
     "metadata": {},
     "output_type": "execute_result"
    },
    {
     "data": {
      "text/html": [
       "<b>limit_output extension: Maximum message size of 1000 exceeded with 318603 characters</b>"
      ]
     },
     "metadata": {},
     "output_type": "display_data"
    }
   ],
   "source": [
    "lolp.get_tournaments()"
   ]
  },
  {
   "cell_type": "code",
   "execution_count": 4,
   "id": "0de0e338",
   "metadata": {
    "ExecuteTime": {
     "end_time": "2024-02-09T13:00:06.170896Z",
     "start_time": "2024-02-09T13:00:05.153361Z"
    },
    "scrolled": true
   },
   "outputs": [
    {
     "name": "stdout",
     "output_type": "stream",
     "text": [
      "LCK 2024 Season Opening\n",
      "LCK 2024 Season Opening\n",
      "IWCT 2013\n",
      "Gamescom 2013/International Wildcard Tournament\n",
      "IWCT 2014\n",
      "2014 Season International Wild Card Tournament\n",
      "Brazil Regional Finals 2014\n",
      "CBLOL/2014 Season/Regional Finals\n",
      "LAN 2015 Opening Cup\n",
      "Latin America Cup 2015/LAN/Opening Cup/Regular Season\n",
      "LAN 2016 Closing Cup Playoffs\n",
      "Latin America Cup/LAN/2016 Season/Closing Cup/Playoffs\n",
      "LAN 2016 Closing Cup\n",
      "Latin America Cup/LAN/2016 Season/Closing Cup/Regular Season\n",
      "LAN 2016 Opening Cup Playoffs\n",
      "Latin America Cup/LAN/2016 Season/Opening Cup/Playoffs\n",
      "LAN 2016 Opening Cup\n",
      "Latin America Cup/LAN/2016 Season/Opening Cup/Regular Season\n",
      "LAN 2015 Closing Cup Playoffs\n",
      "Latin America Cup 2015/LAN/Closing Cup/Playoffs\n",
      "LAN 2015 Opening Cup Playoffs\n",
      "Latin America Cup 2015/LAN/Opening Cup/Playoffs\n",
      "LAN 2015 Closing Cup\n",
      "Latin America Cup 2015/LAN/Closing Cup/Regular Season\n",
      "LAN 2016 Closing Cup Promotion\n",
      "Latin America Cup/LAN/2016 Season/Closing Cup/Promotion\n",
      "LAN 2016 Opening Cup Promotion\n",
      "Latin America Cup"
     ]
    },
    {
     "data": {
      "text/html": [
       "<b>limit_output extension: Maximum message size of 1000 exceeded with 55474 characters</b>"
      ]
     },
     "metadata": {},
     "output_type": "display_data"
    }
   ],
   "source": [
    "for a in lolp.get_tournaments():\n",
    "    print(a.name)\n",
    "    print(a.overviewPage)"
   ]
  },
  {
   "cell_type": "code",
   "execution_count": 5,
   "id": "f96aa431",
   "metadata": {
    "ExecuteTime": {
     "end_time": "2024-02-09T13:00:06.514703Z",
     "start_time": "2024-02-09T13:00:06.172860Z"
    },
    "scrolled": true
   },
   "outputs": [
    {
     "data": {
      "text/plain": [
       "[]"
      ]
     },
     "execution_count": 5,
     "metadata": {},
     "output_type": "execute_result"
    }
   ],
   "source": [
    "lolp.get_games(\"Intel Arabian Cup 2020/United Arab Emirates/Split 1\")"
   ]
  },
  {
   "cell_type": "code",
   "execution_count": 7,
   "id": "7ee86511",
   "metadata": {
    "ExecuteTime": {
     "end_time": "2024-02-09T13:07:05.139883Z",
     "start_time": "2024-02-09T13:02:23.712737Z"
    },
    "scrolled": true
   },
   "outputs": [
    {
     "name": "stdout",
     "output_type": "stream",
     "text": [
      "Intel Arabian Cup 2020\n",
      "[LolGame(sources=EmptyDataclass(), duration=1524, start='2020-10-01T15:29:00+00:00', creation=None, type=None, queue_id=None, patch='10.20', gameVersion=None, winner='RED', teams=LolGameTeams(BLUE=LolGameTeam(bans=[223, 777, 84, 201, 235], players=[LolGamePlayer(primaryRuneTreeId=None, secondaryRuneTreeId=None, championId=54, id=None, inGameName=None, profileIconId=None, role=None, sources=EmptyDataclass(), runes=[], summonerSpells=[], endOfGameStats=None, snapshots=[], itemsEvents=[], wardsEvents=[], skillsLevelUpEvents=[], largeMonstersKills=[], levelUpEvents=[], spellsUses=[], specialKills=[]), LolGamePlayer(primaryRuneTreeId=None, secondaryRuneTreeId=None, championId=120, id=None, inGameName=None, profileIconId=None, role=None, sources=EmptyDataclass(), runes=[], summonerSpells=[], endOfGameStats=None, snapshots=[], itemsEvents=[], wardsEvents=[], skillsLevelUpEvents=[], largeMonstersKills=[], levelUpEvents=[], spellsUses=[], specialKills=[]), LolGamePlayer(p"
     ]
    },
    {
     "data": {
      "text/html": [
       "<b>limit_output extension: Maximum message size of 1000 exceeded with 408837 characters</b>"
      ]
     },
     "metadata": {},
     "output_type": "display_data"
    },
    {
     "ename": "KeyboardInterrupt",
     "evalue": "",
     "output_type": "error",
     "traceback": [
      "\u001b[1;31m---------------------------------------------------------------------------\u001b[0m",
      "\u001b[1;31mKeyboardInterrupt\u001b[0m                         Traceback (most recent call last)",
      "\u001b[1;32m~\\AppData\\Local\\Temp/ipykernel_22192/728377568.py\u001b[0m in \u001b[0;36m<module>\u001b[1;34m\u001b[0m\n\u001b[0;32m      1\u001b[0m \u001b[0mtournaments\u001b[0m \u001b[1;33m=\u001b[0m \u001b[0mlolp\u001b[0m\u001b[1;33m.\u001b[0m\u001b[0mget_tournaments\u001b[0m\u001b[1;33m(\u001b[0m\u001b[1;33m)\u001b[0m\u001b[1;33m\u001b[0m\u001b[1;33m\u001b[0m\u001b[0m\n\u001b[0;32m      2\u001b[0m \u001b[1;32mfor\u001b[0m \u001b[0mtournament\u001b[0m \u001b[1;32min\u001b[0m \u001b[0mtournaments\u001b[0m\u001b[1;33m:\u001b[0m\u001b[1;33m\u001b[0m\u001b[1;33m\u001b[0m\u001b[0m\n\u001b[1;32m----> 3\u001b[1;33m     \u001b[1;32mif\u001b[0m \u001b[0mlolp\u001b[0m\u001b[1;33m.\u001b[0m\u001b[0mget_games\u001b[0m\u001b[1;33m(\u001b[0m\u001b[0mtournament\u001b[0m\u001b[1;33m.\u001b[0m\u001b[0mname\u001b[0m\u001b[1;33m)\u001b[0m \u001b[1;33m!=\u001b[0m \u001b[1;33m[\u001b[0m\u001b[1;33m]\u001b[0m\u001b[1;33m:\u001b[0m\u001b[1;33m\u001b[0m\u001b[1;33m\u001b[0m\u001b[0m\n\u001b[0m\u001b[0;32m      4\u001b[0m         \u001b[0mprint\u001b[0m\u001b[1;33m(\u001b[0m\u001b[0mtournament\u001b[0m\u001b[1;33m.\u001b[0m\u001b[0mname\u001b[0m\u001b[1;33m)\u001b[0m\u001b[1;33m\u001b[0m\u001b[1;33m\u001b[0m\u001b[0m\n\u001b[0;32m      5\u001b[0m         \u001b[0mprint\u001b[0m\u001b[1;33m(\u001b[0m\u001b[0mlolp\u001b[0m\u001b[1;33m.\u001b[0m\u001b[0mget_games\u001b[0m\u001b[1;33m(\u001b[0m\u001b[0mtournament\u001b[0m\u001b[1;33m.\u001b[0m\u001b[0mname\u001b[0m\u001b[1;33m)\u001b[0m\u001b[1;33m)\u001b[0m\u001b[1;33m\u001b[0m\u001b[1;33m\u001b[0m\u001b[0m\n",
      "\u001b[1;32m~\\anaconda3\\lib\\site-packages\\leaguepedia_parser\\parsers\\game_parser.py\u001b[0m in \u001b[0;36mget_games\u001b[1;34m(tournament_overview_page, **kwargs)\u001b[0m\n\u001b[0;32m    100\u001b[0m     \"\"\"\n\u001b[0;32m    101\u001b[0m \u001b[1;33m\u001b[0m\u001b[0m\n\u001b[1;32m--> 102\u001b[1;33m     games = leaguepedia.query(\n\u001b[0m\u001b[0;32m    103\u001b[0m         \u001b[0mtables\u001b[0m\u001b[1;33m=\u001b[0m\u001b[1;34m\"ScoreboardGames\"\u001b[0m\u001b[1;33m,\u001b[0m\u001b[1;33m\u001b[0m\u001b[1;33m\u001b[0m\u001b[0m\n\u001b[0;32m    104\u001b[0m         \u001b[0mfields\u001b[0m\u001b[1;33m=\u001b[0m\u001b[1;34m\", \"\u001b[0m\u001b[1;33m.\u001b[0m\u001b[0mjoin\u001b[0m\u001b[1;33m(\u001b[0m\u001b[0mgame_fields\u001b[0m\u001b[1;33m)\u001b[0m\u001b[1;33m,\u001b[0m\u001b[1;33m\u001b[0m\u001b[1;33m\u001b[0m\u001b[0m\n",
      "\u001b[1;32m~\\anaconda3\\lib\\site-packages\\leaguepedia_parser\\site\\leaguepedia.py\u001b[0m in \u001b[0;36mquery\u001b[1;34m(self, **kwargs)\u001b[0m\n\u001b[0;32m     41\u001b[0m         \u001b[1;32mwhile\u001b[0m \u001b[0mlen\u001b[0m\u001b[1;33m(\u001b[0m\u001b[0mresult\u001b[0m\u001b[1;33m)\u001b[0m \u001b[1;33m%\u001b[0m \u001b[0mself\u001b[0m\u001b[1;33m.\u001b[0m\u001b[0mlimit\u001b[0m \u001b[1;33m==\u001b[0m \u001b[1;36m0\u001b[0m\u001b[1;33m:\u001b[0m\u001b[1;33m\u001b[0m\u001b[1;33m\u001b[0m\u001b[0m\n\u001b[0;32m     42\u001b[0m             result.extend(\n\u001b[1;32m---> 43\u001b[1;33m                 self.site.cargo_client.query(\n\u001b[0m\u001b[0;32m     44\u001b[0m                     \u001b[0mlimit\u001b[0m\u001b[1;33m=\u001b[0m\u001b[0mself\u001b[0m\u001b[1;33m.\u001b[0m\u001b[0mlimit\u001b[0m\u001b[1;33m,\u001b[0m \u001b[0moffset\u001b[0m\u001b[1;33m=\u001b[0m\u001b[0mlen\u001b[0m\u001b[1;33m(\u001b[0m\u001b[0mresult\u001b[0m\u001b[1;33m)\u001b[0m\u001b[1;33m,\u001b[0m \u001b[1;33m**\u001b[0m\u001b[0mkwargs\u001b[0m\u001b[1;33m\u001b[0m\u001b[1;33m\u001b[0m\u001b[0m\n\u001b[0;32m     45\u001b[0m                 )\n",
      "\u001b[1;32m~\\anaconda3\\lib\\site-packages\\mwcleric\\clients\\cargo_client.py\u001b[0m in \u001b[0;36mquery\u001b[1;34m(self, tables, fields, where, join_on, group_by, having, order_by, offset, limit, auto_continue)\u001b[0m\n\u001b[0;32m     47\u001b[0m         \u001b[0mret\u001b[0m \u001b[1;33m=\u001b[0m \u001b[1;33m[\u001b[0m\u001b[1;33m]\u001b[0m\u001b[1;33m\u001b[0m\u001b[1;33m\u001b[0m\u001b[0m\n\u001b[0;32m     48\u001b[0m         \u001b[1;32mwhile\u001b[0m \u001b[1;32mTrue\u001b[0m\u001b[1;33m:\u001b[0m\u001b[1;33m\u001b[0m\u001b[1;33m\u001b[0m\u001b[0m\n\u001b[1;32m---> 49\u001b[1;33m             \u001b[0mresponse\u001b[0m \u001b[1;33m=\u001b[0m \u001b[0mself\u001b[0m\u001b[1;33m.\u001b[0m\u001b[0mclient\u001b[0m\u001b[1;33m.\u001b[0m\u001b[0mapi\u001b[0m\u001b[1;33m(\u001b[0m\u001b[1;34m'cargoquery'\u001b[0m\u001b[1;33m,\u001b[0m \u001b[1;33m**\u001b[0m\u001b[0mdata\u001b[0m\u001b[1;33m)\u001b[0m\u001b[1;33m\u001b[0m\u001b[1;33m\u001b[0m\u001b[0m\n\u001b[0m\u001b[0;32m     50\u001b[0m             \u001b[1;32mfor\u001b[0m \u001b[0mitem\u001b[0m \u001b[1;32min\u001b[0m \u001b[0mresponse\u001b[0m\u001b[1;33m[\u001b[0m\u001b[1;34m'cargoquery'\u001b[0m\u001b[1;33m]\u001b[0m\u001b[1;33m:\u001b[0m\u001b[1;33m\u001b[0m\u001b[1;33m\u001b[0m\u001b[0m\n\u001b[0;32m     51\u001b[0m                 \u001b[0mret\u001b[0m\u001b[1;33m.\u001b[0m\u001b[0mappend\u001b[0m\u001b[1;33m(\u001b[0m\u001b[0mitem\u001b[0m\u001b[1;33m[\u001b[0m\u001b[1;34m'title'\u001b[0m\u001b[1;33m]\u001b[0m\u001b[1;33m)\u001b[0m\u001b[1;33m\u001b[0m\u001b[1;33m\u001b[0m\u001b[0m\n",
      "\u001b[1;32m~\\anaconda3\\lib\\site-packages\\mwclient\\client.py\u001b[0m in \u001b[0;36mapi\u001b[1;34m(self, action, http_method, *args, **kwargs)\u001b[0m\n\u001b[0;32m    283\u001b[0m \u001b[1;33m\u001b[0m\u001b[0m\n\u001b[0;32m    284\u001b[0m         \u001b[1;32mwhile\u001b[0m \u001b[1;32mTrue\u001b[0m\u001b[1;33m:\u001b[0m\u001b[1;33m\u001b[0m\u001b[1;33m\u001b[0m\u001b[0m\n\u001b[1;32m--> 285\u001b[1;33m             \u001b[0minfo\u001b[0m \u001b[1;33m=\u001b[0m \u001b[0mself\u001b[0m\u001b[1;33m.\u001b[0m\u001b[0mraw_api\u001b[0m\u001b[1;33m(\u001b[0m\u001b[0maction\u001b[0m\u001b[1;33m,\u001b[0m \u001b[0mhttp_method\u001b[0m\u001b[1;33m,\u001b[0m \u001b[1;33m**\u001b[0m\u001b[0mkwargs\u001b[0m\u001b[1;33m)\u001b[0m\u001b[1;33m\u001b[0m\u001b[1;33m\u001b[0m\u001b[0m\n\u001b[0m\u001b[0;32m    286\u001b[0m             \u001b[1;32mif\u001b[0m \u001b[1;32mnot\u001b[0m \u001b[0minfo\u001b[0m\u001b[1;33m:\u001b[0m\u001b[1;33m\u001b[0m\u001b[1;33m\u001b[0m\u001b[0m\n\u001b[0;32m    287\u001b[0m                 \u001b[0minfo\u001b[0m \u001b[1;33m=\u001b[0m \u001b[1;33m{\u001b[0m\u001b[1;33m}\u001b[0m\u001b[1;33m\u001b[0m\u001b[1;33m\u001b[0m\u001b[0m\n",
      "\u001b[1;32m~\\anaconda3\\lib\\site-packages\\mwclient\\client.py\u001b[0m in \u001b[0;36mraw_api\u001b[1;34m(self, action, http_method, *args, **kwargs)\u001b[0m\n\u001b[0;32m    435\u001b[0m         \u001b[0mkwargs\u001b[0m\u001b[1;33m[\u001b[0m\u001b[1;34m'format'\u001b[0m\u001b[1;33m]\u001b[0m \u001b[1;33m=\u001b[0m \u001b[1;34m'json'\u001b[0m\u001b[1;33m\u001b[0m\u001b[1;33m\u001b[0m\u001b[0m\n\u001b[0;32m    436\u001b[0m         \u001b[0mdata\u001b[0m \u001b[1;33m=\u001b[0m \u001b[0mself\u001b[0m\u001b[1;33m.\u001b[0m\u001b[0m_query_string\u001b[0m\u001b[1;33m(\u001b[0m\u001b[1;33m*\u001b[0m\u001b[0margs\u001b[0m\u001b[1;33m,\u001b[0m \u001b[1;33m**\u001b[0m\u001b[0mkwargs\u001b[0m\u001b[1;33m)\u001b[0m\u001b[1;33m\u001b[0m\u001b[1;33m\u001b[0m\u001b[0m\n\u001b[1;32m--> 437\u001b[1;33m         res = self.raw_call('api', data, retry_on_error=retry_on_error,\n\u001b[0m\u001b[0;32m    438\u001b[0m                             http_method=http_method)\n\u001b[0;32m    439\u001b[0m \u001b[1;33m\u001b[0m\u001b[0m\n",
      "\u001b[1;32m~\\anaconda3\\lib\\site-packages\\mwclient\\client.py\u001b[0m in \u001b[0;36mraw_call\u001b[1;34m(self, script, data, files, retry_on_error, http_method)\u001b[0m\n\u001b[0;32m    397\u001b[0m                     \u001b[0margs\u001b[0m\u001b[1;33m[\u001b[0m\u001b[1;34m'data'\u001b[0m\u001b[1;33m]\u001b[0m \u001b[1;33m=\u001b[0m \u001b[0mdata\u001b[0m\u001b[1;33m\u001b[0m\u001b[1;33m\u001b[0m\u001b[0m\n\u001b[0;32m    398\u001b[0m \u001b[1;33m\u001b[0m\u001b[0m\n\u001b[1;32m--> 399\u001b[1;33m                 \u001b[0mstream\u001b[0m \u001b[1;33m=\u001b[0m \u001b[0mself\u001b[0m\u001b[1;33m.\u001b[0m\u001b[0mconnection\u001b[0m\u001b[1;33m.\u001b[0m\u001b[0mrequest\u001b[0m\u001b[1;33m(\u001b[0m\u001b[0mhttp_method\u001b[0m\u001b[1;33m,\u001b[0m \u001b[0murl\u001b[0m\u001b[1;33m,\u001b[0m \u001b[1;33m**\u001b[0m\u001b[0margs\u001b[0m\u001b[1;33m)\u001b[0m\u001b[1;33m\u001b[0m\u001b[1;33m\u001b[0m\u001b[0m\n\u001b[0m\u001b[0;32m    400\u001b[0m \u001b[1;33m\u001b[0m\u001b[0m\n\u001b[0;32m    401\u001b[0m                 \u001b[1;32mif\u001b[0m \u001b[0mstream\u001b[0m\u001b[1;33m.\u001b[0m\u001b[0mheaders\u001b[0m\u001b[1;33m.\u001b[0m\u001b[0mget\u001b[0m\u001b[1;33m(\u001b[0m\u001b[1;34m'x-database-lag'\u001b[0m\u001b[1;33m)\u001b[0m\u001b[1;33m:\u001b[0m\u001b[1;33m\u001b[0m\u001b[1;33m\u001b[0m\u001b[0m\n",
      "\u001b[1;32m~\\anaconda3\\lib\\site-packages\\requests\\sessions.py\u001b[0m in \u001b[0;36mrequest\u001b[1;34m(self, method, url, params, data, headers, cookies, files, auth, timeout, allow_redirects, proxies, hooks, stream, verify, cert, json)\u001b[0m\n\u001b[0;32m    540\u001b[0m         }\n\u001b[0;32m    541\u001b[0m         \u001b[0msend_kwargs\u001b[0m\u001b[1;33m.\u001b[0m\u001b[0mupdate\u001b[0m\u001b[1;33m(\u001b[0m\u001b[0msettings\u001b[0m\u001b[1;33m)\u001b[0m\u001b[1;33m\u001b[0m\u001b[1;33m\u001b[0m\u001b[0m\n\u001b[1;32m--> 542\u001b[1;33m         \u001b[0mresp\u001b[0m \u001b[1;33m=\u001b[0m \u001b[0mself\u001b[0m\u001b[1;33m.\u001b[0m\u001b[0msend\u001b[0m\u001b[1;33m(\u001b[0m\u001b[0mprep\u001b[0m\u001b[1;33m,\u001b[0m \u001b[1;33m**\u001b[0m\u001b[0msend_kwargs\u001b[0m\u001b[1;33m)\u001b[0m\u001b[1;33m\u001b[0m\u001b[1;33m\u001b[0m\u001b[0m\n\u001b[0m\u001b[0;32m    543\u001b[0m \u001b[1;33m\u001b[0m\u001b[0m\n\u001b[0;32m    544\u001b[0m         \u001b[1;32mreturn\u001b[0m \u001b[0mresp\u001b[0m\u001b[1;33m\u001b[0m\u001b[1;33m\u001b[0m\u001b[0m\n",
      "\u001b[1;32m~\\anaconda3\\lib\\site-packages\\requests\\sessions.py\u001b[0m in \u001b[0;36msend\u001b[1;34m(self, request, **kwargs)\u001b[0m\n\u001b[0;32m    653\u001b[0m \u001b[1;33m\u001b[0m\u001b[0m\n\u001b[0;32m    654\u001b[0m         \u001b[1;31m# Send the request\u001b[0m\u001b[1;33m\u001b[0m\u001b[1;33m\u001b[0m\u001b[0m\n\u001b[1;32m--> 655\u001b[1;33m         \u001b[0mr\u001b[0m \u001b[1;33m=\u001b[0m \u001b[0madapter\u001b[0m\u001b[1;33m.\u001b[0m\u001b[0msend\u001b[0m\u001b[1;33m(\u001b[0m\u001b[0mrequest\u001b[0m\u001b[1;33m,\u001b[0m \u001b[1;33m**\u001b[0m\u001b[0mkwargs\u001b[0m\u001b[1;33m)\u001b[0m\u001b[1;33m\u001b[0m\u001b[1;33m\u001b[0m\u001b[0m\n\u001b[0m\u001b[0;32m    656\u001b[0m \u001b[1;33m\u001b[0m\u001b[0m\n\u001b[0;32m    657\u001b[0m         \u001b[1;31m# Total elapsed time of the request (approximately)\u001b[0m\u001b[1;33m\u001b[0m\u001b[1;33m\u001b[0m\u001b[0m\n",
      "\u001b[1;32m~\\anaconda3\\lib\\site-packages\\requests\\adapters.py\u001b[0m in \u001b[0;36msend\u001b[1;34m(self, request, stream, timeout, verify, cert, proxies)\u001b[0m\n\u001b[0;32m    437\u001b[0m         \u001b[1;32mtry\u001b[0m\u001b[1;33m:\u001b[0m\u001b[1;33m\u001b[0m\u001b[1;33m\u001b[0m\u001b[0m\n\u001b[0;32m    438\u001b[0m             \u001b[1;32mif\u001b[0m \u001b[1;32mnot\u001b[0m \u001b[0mchunked\u001b[0m\u001b[1;33m:\u001b[0m\u001b[1;33m\u001b[0m\u001b[1;33m\u001b[0m\u001b[0m\n\u001b[1;32m--> 439\u001b[1;33m                 resp = conn.urlopen(\n\u001b[0m\u001b[0;32m    440\u001b[0m                     \u001b[0mmethod\u001b[0m\u001b[1;33m=\u001b[0m\u001b[0mrequest\u001b[0m\u001b[1;33m.\u001b[0m\u001b[0mmethod\u001b[0m\u001b[1;33m,\u001b[0m\u001b[1;33m\u001b[0m\u001b[1;33m\u001b[0m\u001b[0m\n\u001b[0;32m    441\u001b[0m                     \u001b[0murl\u001b[0m\u001b[1;33m=\u001b[0m\u001b[0murl\u001b[0m\u001b[1;33m,\u001b[0m\u001b[1;33m\u001b[0m\u001b[1;33m\u001b[0m\u001b[0m\n",
      "\u001b[1;32m~\\anaconda3\\lib\\site-packages\\urllib3\\connectionpool.py\u001b[0m in \u001b[0;36murlopen\u001b[1;34m(self, method, url, body, headers, retries, redirect, assert_same_host, timeout, pool_timeout, release_conn, chunked, body_pos, **response_kw)\u001b[0m\n\u001b[0;32m    697\u001b[0m \u001b[1;33m\u001b[0m\u001b[0m\n\u001b[0;32m    698\u001b[0m             \u001b[1;31m# Make the request on the httplib connection object.\u001b[0m\u001b[1;33m\u001b[0m\u001b[1;33m\u001b[0m\u001b[0m\n\u001b[1;32m--> 699\u001b[1;33m             httplib_response = self._make_request(\n\u001b[0m\u001b[0;32m    700\u001b[0m                 \u001b[0mconn\u001b[0m\u001b[1;33m,\u001b[0m\u001b[1;33m\u001b[0m\u001b[1;33m\u001b[0m\u001b[0m\n\u001b[0;32m    701\u001b[0m                 \u001b[0mmethod\u001b[0m\u001b[1;33m,\u001b[0m\u001b[1;33m\u001b[0m\u001b[1;33m\u001b[0m\u001b[0m\n",
      "\u001b[1;32m~\\anaconda3\\lib\\site-packages\\urllib3\\connectionpool.py\u001b[0m in \u001b[0;36m_make_request\u001b[1;34m(self, conn, method, url, timeout, chunked, **httplib_request_kw)\u001b[0m\n\u001b[0;32m    443\u001b[0m                     \u001b[1;31m# Python 3 (including for exceptions like SystemExit).\u001b[0m\u001b[1;33m\u001b[0m\u001b[1;33m\u001b[0m\u001b[0m\n\u001b[0;32m    444\u001b[0m                     \u001b[1;31m# Otherwise it looks like a bug in the code.\u001b[0m\u001b[1;33m\u001b[0m\u001b[1;33m\u001b[0m\u001b[0m\n\u001b[1;32m--> 445\u001b[1;33m                     \u001b[0msix\u001b[0m\u001b[1;33m.\u001b[0m\u001b[0mraise_from\u001b[0m\u001b[1;33m(\u001b[0m\u001b[0me\u001b[0m\u001b[1;33m,\u001b[0m \u001b[1;32mNone\u001b[0m\u001b[1;33m)\u001b[0m\u001b[1;33m\u001b[0m\u001b[1;33m\u001b[0m\u001b[0m\n\u001b[0m\u001b[0;32m    446\u001b[0m         \u001b[1;32mexcept\u001b[0m \u001b[1;33m(\u001b[0m\u001b[0mSocketTimeout\u001b[0m\u001b[1;33m,\u001b[0m \u001b[0mBaseSSLError\u001b[0m\u001b[1;33m,\u001b[0m \u001b[0mSocketError\u001b[0m\u001b[1;33m)\u001b[0m \u001b[1;32mas\u001b[0m \u001b[0me\u001b[0m\u001b[1;33m:\u001b[0m\u001b[1;33m\u001b[0m\u001b[1;33m\u001b[0m\u001b[0m\n\u001b[0;32m    447\u001b[0m             \u001b[0mself\u001b[0m\u001b[1;33m.\u001b[0m\u001b[0m_raise_timeout\u001b[0m\u001b[1;33m(\u001b[0m\u001b[0merr\u001b[0m\u001b[1;33m=\u001b[0m\u001b[0me\u001b[0m\u001b[1;33m,\u001b[0m \u001b[0murl\u001b[0m\u001b[1;33m=\u001b[0m\u001b[0murl\u001b[0m\u001b[1;33m,\u001b[0m \u001b[0mtimeout_value\u001b[0m\u001b[1;33m=\u001b[0m\u001b[0mread_timeout\u001b[0m\u001b[1;33m)\u001b[0m\u001b[1;33m\u001b[0m\u001b[1;33m\u001b[0m\u001b[0m\n",
      "\u001b[1;32m~\\anaconda3\\lib\\site-packages\\urllib3\\packages\\six.py\u001b[0m in \u001b[0;36mraise_from\u001b[1;34m(value, from_value)\u001b[0m\n",
      "\u001b[1;32m~\\anaconda3\\lib\\site-packages\\urllib3\\connectionpool.py\u001b[0m in \u001b[0;36m_make_request\u001b[1;34m(self, conn, method, url, timeout, chunked, **httplib_request_kw)\u001b[0m\n\u001b[0;32m    438\u001b[0m                 \u001b[1;31m# Python 3\u001b[0m\u001b[1;33m\u001b[0m\u001b[1;33m\u001b[0m\u001b[0m\n\u001b[0;32m    439\u001b[0m                 \u001b[1;32mtry\u001b[0m\u001b[1;33m:\u001b[0m\u001b[1;33m\u001b[0m\u001b[1;33m\u001b[0m\u001b[0m\n\u001b[1;32m--> 440\u001b[1;33m                     \u001b[0mhttplib_response\u001b[0m \u001b[1;33m=\u001b[0m \u001b[0mconn\u001b[0m\u001b[1;33m.\u001b[0m\u001b[0mgetresponse\u001b[0m\u001b[1;33m(\u001b[0m\u001b[1;33m)\u001b[0m\u001b[1;33m\u001b[0m\u001b[1;33m\u001b[0m\u001b[0m\n\u001b[0m\u001b[0;32m    441\u001b[0m                 \u001b[1;32mexcept\u001b[0m \u001b[0mBaseException\u001b[0m \u001b[1;32mas\u001b[0m \u001b[0me\u001b[0m\u001b[1;33m:\u001b[0m\u001b[1;33m\u001b[0m\u001b[1;33m\u001b[0m\u001b[0m\n\u001b[0;32m    442\u001b[0m                     \u001b[1;31m# Remove the TypeError from the exception chain in\u001b[0m\u001b[1;33m\u001b[0m\u001b[1;33m\u001b[0m\u001b[0m\n",
      "\u001b[1;32m~\\anaconda3\\lib\\http\\client.py\u001b[0m in \u001b[0;36mgetresponse\u001b[1;34m(self)\u001b[0m\n\u001b[0;32m   1369\u001b[0m         \u001b[1;32mtry\u001b[0m\u001b[1;33m:\u001b[0m\u001b[1;33m\u001b[0m\u001b[1;33m\u001b[0m\u001b[0m\n\u001b[0;32m   1370\u001b[0m             \u001b[1;32mtry\u001b[0m\u001b[1;33m:\u001b[0m\u001b[1;33m\u001b[0m\u001b[1;33m\u001b[0m\u001b[0m\n\u001b[1;32m-> 1371\u001b[1;33m                 \u001b[0mresponse\u001b[0m\u001b[1;33m.\u001b[0m\u001b[0mbegin\u001b[0m\u001b[1;33m(\u001b[0m\u001b[1;33m)\u001b[0m\u001b[1;33m\u001b[0m\u001b[1;33m\u001b[0m\u001b[0m\n\u001b[0m\u001b[0;32m   1372\u001b[0m             \u001b[1;32mexcept\u001b[0m \u001b[0mConnectionError\u001b[0m\u001b[1;33m:\u001b[0m\u001b[1;33m\u001b[0m\u001b[1;33m\u001b[0m\u001b[0m\n\u001b[0;32m   1373\u001b[0m                 \u001b[0mself\u001b[0m\u001b[1;33m.\u001b[0m\u001b[0mclose\u001b[0m\u001b[1;33m(\u001b[0m\u001b[1;33m)\u001b[0m\u001b[1;33m\u001b[0m\u001b[1;33m\u001b[0m\u001b[0m\n",
      "\u001b[1;32m~\\anaconda3\\lib\\http\\client.py\u001b[0m in \u001b[0;36mbegin\u001b[1;34m(self)\u001b[0m\n\u001b[0;32m    317\u001b[0m         \u001b[1;31m# read until we get a non-100 response\u001b[0m\u001b[1;33m\u001b[0m\u001b[1;33m\u001b[0m\u001b[0m\n\u001b[0;32m    318\u001b[0m         \u001b[1;32mwhile\u001b[0m \u001b[1;32mTrue\u001b[0m\u001b[1;33m:\u001b[0m\u001b[1;33m\u001b[0m\u001b[1;33m\u001b[0m\u001b[0m\n\u001b[1;32m--> 319\u001b[1;33m             \u001b[0mversion\u001b[0m\u001b[1;33m,\u001b[0m \u001b[0mstatus\u001b[0m\u001b[1;33m,\u001b[0m \u001b[0mreason\u001b[0m \u001b[1;33m=\u001b[0m \u001b[0mself\u001b[0m\u001b[1;33m.\u001b[0m\u001b[0m_read_status\u001b[0m\u001b[1;33m(\u001b[0m\u001b[1;33m)\u001b[0m\u001b[1;33m\u001b[0m\u001b[1;33m\u001b[0m\u001b[0m\n\u001b[0m\u001b[0;32m    320\u001b[0m             \u001b[1;32mif\u001b[0m \u001b[0mstatus\u001b[0m \u001b[1;33m!=\u001b[0m \u001b[0mCONTINUE\u001b[0m\u001b[1;33m:\u001b[0m\u001b[1;33m\u001b[0m\u001b[1;33m\u001b[0m\u001b[0m\n\u001b[0;32m    321\u001b[0m                 \u001b[1;32mbreak\u001b[0m\u001b[1;33m\u001b[0m\u001b[1;33m\u001b[0m\u001b[0m\n",
      "\u001b[1;32m~\\anaconda3\\lib\\http\\client.py\u001b[0m in \u001b[0;36m_read_status\u001b[1;34m(self)\u001b[0m\n\u001b[0;32m    278\u001b[0m \u001b[1;33m\u001b[0m\u001b[0m\n\u001b[0;32m    279\u001b[0m     \u001b[1;32mdef\u001b[0m \u001b[0m_read_status\u001b[0m\u001b[1;33m(\u001b[0m\u001b[0mself\u001b[0m\u001b[1;33m)\u001b[0m\u001b[1;33m:\u001b[0m\u001b[1;33m\u001b[0m\u001b[1;33m\u001b[0m\u001b[0m\n\u001b[1;32m--> 280\u001b[1;33m         \u001b[0mline\u001b[0m \u001b[1;33m=\u001b[0m \u001b[0mstr\u001b[0m\u001b[1;33m(\u001b[0m\u001b[0mself\u001b[0m\u001b[1;33m.\u001b[0m\u001b[0mfp\u001b[0m\u001b[1;33m.\u001b[0m\u001b[0mreadline\u001b[0m\u001b[1;33m(\u001b[0m\u001b[0m_MAXLINE\u001b[0m \u001b[1;33m+\u001b[0m \u001b[1;36m1\u001b[0m\u001b[1;33m)\u001b[0m\u001b[1;33m,\u001b[0m \u001b[1;34m\"iso-8859-1\"\u001b[0m\u001b[1;33m)\u001b[0m\u001b[1;33m\u001b[0m\u001b[1;33m\u001b[0m\u001b[0m\n\u001b[0m\u001b[0;32m    281\u001b[0m         \u001b[1;32mif\u001b[0m \u001b[0mlen\u001b[0m\u001b[1;33m(\u001b[0m\u001b[0mline\u001b[0m\u001b[1;33m)\u001b[0m \u001b[1;33m>\u001b[0m \u001b[0m_MAXLINE\u001b[0m\u001b[1;33m:\u001b[0m\u001b[1;33m\u001b[0m\u001b[1;33m\u001b[0m\u001b[0m\n\u001b[0;32m    282\u001b[0m             \u001b[1;32mraise\u001b[0m \u001b[0mLineTooLong\u001b[0m\u001b[1;33m(\u001b[0m\u001b[1;34m\"status line\"\u001b[0m\u001b[1;33m)\u001b[0m\u001b[1;33m\u001b[0m\u001b[1;33m\u001b[0m\u001b[0m\n",
      "\u001b[1;32m~\\anaconda3\\lib\\socket.py\u001b[0m in \u001b[0;36mreadinto\u001b[1;34m(self, b)\u001b[0m\n\u001b[0;32m    702\u001b[0m         \u001b[1;32mwhile\u001b[0m \u001b[1;32mTrue\u001b[0m\u001b[1;33m:\u001b[0m\u001b[1;33m\u001b[0m\u001b[1;33m\u001b[0m\u001b[0m\n\u001b[0;32m    703\u001b[0m             \u001b[1;32mtry\u001b[0m\u001b[1;33m:\u001b[0m\u001b[1;33m\u001b[0m\u001b[1;33m\u001b[0m\u001b[0m\n\u001b[1;32m--> 704\u001b[1;33m                 \u001b[1;32mreturn\u001b[0m \u001b[0mself\u001b[0m\u001b[1;33m.\u001b[0m\u001b[0m_sock\u001b[0m\u001b[1;33m.\u001b[0m\u001b[0mrecv_into\u001b[0m\u001b[1;33m(\u001b[0m\u001b[0mb\u001b[0m\u001b[1;33m)\u001b[0m\u001b[1;33m\u001b[0m\u001b[1;33m\u001b[0m\u001b[0m\n\u001b[0m\u001b[0;32m    705\u001b[0m             \u001b[1;32mexcept\u001b[0m \u001b[0mtimeout\u001b[0m\u001b[1;33m:\u001b[0m\u001b[1;33m\u001b[0m\u001b[1;33m\u001b[0m\u001b[0m\n\u001b[0;32m    706\u001b[0m                 \u001b[0mself\u001b[0m\u001b[1;33m.\u001b[0m\u001b[0m_timeout_occurred\u001b[0m \u001b[1;33m=\u001b[0m \u001b[1;32mTrue\u001b[0m\u001b[1;33m\u001b[0m\u001b[1;33m\u001b[0m\u001b[0m\n",
      "\u001b[1;32m~\\anaconda3\\lib\\ssl.py\u001b[0m in \u001b[0;36mrecv_into\u001b[1;34m(self, buffer, nbytes, flags)\u001b[0m\n\u001b[0;32m   1239\u001b[0m                   \u001b[1;34m\"non-zero flags not allowed in calls to recv_into() on %s\"\u001b[0m \u001b[1;33m%\u001b[0m\u001b[1;33m\u001b[0m\u001b[1;33m\u001b[0m\u001b[0m\n\u001b[0;32m   1240\u001b[0m                   self.__class__)\n\u001b[1;32m-> 1241\u001b[1;33m             \u001b[1;32mreturn\u001b[0m \u001b[0mself\u001b[0m\u001b[1;33m.\u001b[0m\u001b[0mread\u001b[0m\u001b[1;33m(\u001b[0m\u001b[0mnbytes\u001b[0m\u001b[1;33m,\u001b[0m \u001b[0mbuffer\u001b[0m\u001b[1;33m)\u001b[0m\u001b[1;33m\u001b[0m\u001b[1;33m\u001b[0m\u001b[0m\n\u001b[0m\u001b[0;32m   1242\u001b[0m         \u001b[1;32melse\u001b[0m\u001b[1;33m:\u001b[0m\u001b[1;33m\u001b[0m\u001b[1;33m\u001b[0m\u001b[0m\n\u001b[0;32m   1243\u001b[0m             \u001b[1;32mreturn\u001b[0m \u001b[0msuper\u001b[0m\u001b[1;33m(\u001b[0m\u001b[1;33m)\u001b[0m\u001b[1;33m.\u001b[0m\u001b[0mrecv_into\u001b[0m\u001b[1;33m(\u001b[0m\u001b[0mbuffer\u001b[0m\u001b[1;33m,\u001b[0m \u001b[0mnbytes\u001b[0m\u001b[1;33m,\u001b[0m \u001b[0mflags\u001b[0m\u001b[1;33m)\u001b[0m\u001b[1;33m\u001b[0m\u001b[1;33m\u001b[0m\u001b[0m\n",
      "\u001b[1;32m~\\anaconda3\\lib\\ssl.py\u001b[0m in \u001b[0;36mread\u001b[1;34m(self, len, buffer)\u001b[0m\n\u001b[0;32m   1097\u001b[0m         \u001b[1;32mtry\u001b[0m\u001b[1;33m:\u001b[0m\u001b[1;33m\u001b[0m\u001b[1;33m\u001b[0m\u001b[0m\n\u001b[0;32m   1098\u001b[0m             \u001b[1;32mif\u001b[0m \u001b[0mbuffer\u001b[0m \u001b[1;32mis\u001b[0m \u001b[1;32mnot\u001b[0m \u001b[1;32mNone\u001b[0m\u001b[1;33m:\u001b[0m\u001b[1;33m\u001b[0m\u001b[1;33m\u001b[0m\u001b[0m\n\u001b[1;32m-> 1099\u001b[1;33m                 \u001b[1;32mreturn\u001b[0m \u001b[0mself\u001b[0m\u001b[1;33m.\u001b[0m\u001b[0m_sslobj\u001b[0m\u001b[1;33m.\u001b[0m\u001b[0mread\u001b[0m\u001b[1;33m(\u001b[0m\u001b[0mlen\u001b[0m\u001b[1;33m,\u001b[0m \u001b[0mbuffer\u001b[0m\u001b[1;33m)\u001b[0m\u001b[1;33m\u001b[0m\u001b[1;33m\u001b[0m\u001b[0m\n\u001b[0m\u001b[0;32m   1100\u001b[0m             \u001b[1;32melse\u001b[0m\u001b[1;33m:\u001b[0m\u001b[1;33m\u001b[0m\u001b[1;33m\u001b[0m\u001b[0m\n\u001b[0;32m   1101\u001b[0m                 \u001b[1;32mreturn\u001b[0m \u001b[0mself\u001b[0m\u001b[1;33m.\u001b[0m\u001b[0m_sslobj\u001b[0m\u001b[1;33m.\u001b[0m\u001b[0mread\u001b[0m\u001b[1;33m(\u001b[0m\u001b[0mlen\u001b[0m\u001b[1;33m)\u001b[0m\u001b[1;33m\u001b[0m\u001b[1;33m\u001b[0m\u001b[0m\n",
      "\u001b[1;31mKeyboardInterrupt\u001b[0m: "
     ]
    }
   ],
   "source": [
    "tournaments = lolp.get_tournaments()\n",
    "for tournament in tournaments:\n",
    "    if lolp.get_games(tournament.name) != []:\n",
    "        print(tournament.name)\n",
    "        print(lolp.get_games(tournament.name))\n",
    "        print(\"------------------------------------------------------\")"
   ]
  },
  {
   "cell_type": "code",
   "execution_count": null,
   "id": "64052fa9",
   "metadata": {
    "ExecuteTime": {
     "end_time": "2024-02-09T13:01:35.498935Z",
     "start_time": "2024-02-09T13:01:35.498935Z"
    },
    "scrolled": true
   },
   "outputs": [],
   "source": [
    "details = lolp.get_games(\"Intel Arabian Cup 2020\")\n",
    "test_dict = dataclasses.asdict(details[0])\n",
    "test_dict"
   ]
  },
  {
   "cell_type": "code",
   "execution_count": null,
   "id": "2d49d7f5",
   "metadata": {
    "ExecuteTime": {
     "end_time": "2024-02-09T13:01:35.500927Z",
     "start_time": "2024-02-09T13:01:35.499930Z"
    },
    "scrolled": true
   },
   "outputs": [],
   "source": [
    "print(test_dict[\"patch\"])\n",
    "print(test_dict[\"winner\"])\n",
    "print(test_dict[\"teams\"][\"BLUE\"][\"bans\"])\n",
    "for i in range(5):\n",
    "    print(test_dict[\"teams\"][\"BLUE\"][\"players\"][i][\"championId\"])\n",
    "print(test_dict[\"teams\"][\"RED\"][\"bans\"])\n",
    "for i in range(5):\n",
    "    print(test_dict[\"teams\"][\"RED\"][\"players\"][i][\"championId\"])"
   ]
  },
  {
   "cell_type": "code",
   "execution_count": null,
   "id": "2b799161",
   "metadata": {
    "ExecuteTime": {
     "end_time": "2024-02-09T13:01:35.501924Z",
     "start_time": "2024-02-09T13:01:35.501924Z"
    },
    "scrolled": true
   },
   "outputs": [],
   "source": [
    "def list_banpicks(tournament):\n",
    "    details = lolp.get_games(tournament)\n",
    "    for i in range(len(details)):\n",
    "        cur_dict = dataclasses.asdict(details[i])\n",
    "        print(cur_dict[\"patch\"])\n",
    "        print(cur_dict[\"winner\"])\n",
    "        print(cur_dict[\"teams\"][\"BLUE\"][\"bans\"])\n",
    "        for i in range(5):\n",
    "            print(cur_dict[\"teams\"][\"BLUE\"][\"players\"][i][\"championId\"])\n",
    "        print(cur_dict[\"teams\"][\"RED\"][\"bans\"])\n",
    "        for i in range(5):\n",
    "            print(cur_dict[\"teams\"][\"RED\"][\"players\"][i][\"championId\"])\n",
    "        print(\"---------------------------------------------------\")"
   ]
  },
  {
   "cell_type": "code",
   "execution_count": null,
   "id": "11f5fb8b",
   "metadata": {
    "ExecuteTime": {
     "end_time": "2024-02-09T13:01:35.503920Z",
     "start_time": "2024-02-09T13:01:35.503920Z"
    },
    "scrolled": true
   },
   "outputs": [],
   "source": [
    "list_banpicks(\"2023 Season World Championship/Main Event\")"
   ]
  },
  {
   "cell_type": "code",
   "execution_count": null,
   "id": "a46effdc",
   "metadata": {
    "ExecuteTime": {
     "end_time": "2024-02-09T13:01:35.504917Z",
     "start_time": "2024-02-09T13:01:35.504917Z"
    },
    "scrolled": true
   },
   "outputs": [],
   "source": [
    "count=0\n",
    "tournaments = lolp.get_tournaments()\n",
    "for tournament in tournaments:\n",
    "    if len(lolp.get_games(tournament.overviewPage)) != 0:\n",
    "        count+=1\n",
    "\n",
    "print(count)"
   ]
  },
  {
   "cell_type": "code",
   "execution_count": null,
   "id": "2273b449",
   "metadata": {
    "ExecuteTime": {
     "end_time": "2024-02-09T13:01:35.506912Z",
     "start_time": "2024-02-09T13:01:35.506912Z"
    },
    "scrolled": true
   },
   "outputs": [],
   "source": [
    "count=0\n",
    "tournaments = lolp.get_tournaments()\n",
    "for tournament in tournaments:\n",
    "    if len(lolp.get_games(tournament.name)) != 0:\n",
    "        print(tournament.name)"
   ]
  },
  {
   "cell_type": "code",
   "execution_count": null,
   "id": "676fe7d7",
   "metadata": {
    "ExecuteTime": {
     "end_time": "2024-02-09T13:01:35.507908Z",
     "start_time": "2024-02-09T13:01:35.507908Z"
    },
    "scrolled": true
   },
   "outputs": [],
   "source": [
    "t_with_data = []\n",
    "tournaments = lolp.get_tournaments()\n",
    "for tournament in tournaments:\n",
    "    if len(lolp.get_games(tournament.overviewPage)) != 0:\n",
    "        t_with_data.append(tournament.overviewPage)\n",
    "print(t_with_data)"
   ]
  },
  {
   "cell_type": "code",
   "execution_count": null,
   "id": "6f8a1113",
   "metadata": {
    "ExecuteTime": {
     "end_time": "2024-02-09T13:01:35.509903Z",
     "start_time": "2024-02-09T13:01:35.509903Z"
    },
    "scrolled": true
   },
   "outputs": [],
   "source": [
    "list_banpicks('Season 3 World Championship')"
   ]
  },
  {
   "cell_type": "code",
   "execution_count": null,
   "id": "78bfee8a",
   "metadata": {
    "ExecuteTime": {
     "end_time": "2024-02-09T13:01:35.510900Z",
     "start_time": "2024-02-09T13:01:35.510900Z"
    },
    "scrolled": true
   },
   "outputs": [],
   "source": [
    "dataclasses.asdict(lolp.get_games('Season 3 World Championship')[0])[\"teams\"][\"RED\"][\"bans\"]"
   ]
  },
  {
   "cell_type": "code",
   "execution_count": null,
   "id": "9fa611ff",
   "metadata": {
    "ExecuteTime": {
     "end_time": "2024-02-09T13:01:35.512895Z",
     "start_time": "2024-02-09T13:01:35.512895Z"
    },
    "scrolled": true
   },
   "outputs": [],
   "source": [
    "def store_banpicks(tournament):\n",
    "\n",
    "    tournament_name = []\n",
    "    date = []\n",
    "    duration = []\n",
    "    \n",
    "    game_id = []\n",
    "    champion_id = []\n",
    "    patch = []\n",
    "    side = []\n",
    "    ban_pick = []\n",
    "    win_lose = []\n",
    "    details = lolp.get_games(tournament)\n",
    "    for i in range(len(details)):\n",
    "        cur_dict = dataclasses.asdict(details[i])\n",
    "        \n",
    "        # Blue side bans\n",
    "        for j in range(len(cur_dict[\"teams\"][\"BLUE\"][\"bans\"])):\n",
    "            game_id.append(i)\n",
    "            tournament_name.append(tournament)\n",
    "            date.append(cur_dict[\"start\"][:10])\n",
    "            duration.append(cur_dict[\"duration\"])\n",
    "            patch.append(cur_dict[\"patch\"])\n",
    "            \n",
    "            champion_id.append(cur_dict[\"teams\"][\"BLUE\"][\"bans\"][j])\n",
    "            side.append(\"BLUE\")\n",
    "            ban_pick.append(\"BAN\")\n",
    "            if cur_dict[\"winner\"] == \"BLUE\":\n",
    "                win_lose.append(\"WIN\")\n",
    "            else:\n",
    "                win_lose.append(\"LOSE\")\n",
    "                \n",
    "        # Red side bans\n",
    "        for k in range(len(cur_dict[\"teams\"][\"RED\"][\"bans\"])):\n",
    "            game_id.append(i)\n",
    "            tournament_name.append(tournament)\n",
    "            date.append(cur_dict[\"start\"][:10])\n",
    "            duration.append(cur_dict[\"duration\"])\n",
    "            patch.append(cur_dict[\"patch\"])\n",
    "            \n",
    "            champion_id.append(cur_dict[\"teams\"][\"RED\"][\"bans\"][k])\n",
    "            side.append(\"RED\")\n",
    "            ban_pick.append(\"BAN\")\n",
    "            if cur_dict[\"winner\"] == \"RED\":\n",
    "                win_lose.append(\"WIN\")\n",
    "            else:\n",
    "                win_lose.append(\"LOSE\")\n",
    "                \n",
    "        # Blue side picks\n",
    "        for l in range(5):\n",
    "            game_id.append(i)\n",
    "            tournament_name.append(tournament)\n",
    "            date.append(cur_dict[\"start\"][:10])\n",
    "            duration.append(cur_dict[\"duration\"])\n",
    "            patch.append(cur_dict[\"patch\"])\n",
    "            \n",
    "            champion_id.append(cur_dict[\"teams\"][\"BLUE\"][\"players\"][l][\"championId\"])\n",
    "            side.append(\"BLUE\")\n",
    "            ban_pick.append(\"PICK\")\n",
    "            if cur_dict[\"winner\"] == \"BLUE\":\n",
    "                win_lose.append(\"WIN\")\n",
    "            else:\n",
    "                win_lose.append(\"LOSE\")\n",
    "\n",
    "        # Red side picks\n",
    "        for m in range(5):\n",
    "            game_id.append(i)\n",
    "            tournament_name.append(tournament)\n",
    "            date.append(cur_dict[\"start\"][:10])\n",
    "            duration.append(cur_dict[\"duration\"])\n",
    "            patch.append(cur_dict[\"patch\"])\n",
    "            \n",
    "            champion_id.append(cur_dict[\"teams\"][\"RED\"][\"players\"][m][\"championId\"])\n",
    "            side.append(\"RED\")\n",
    "            ban_pick.append(\"PICK\")\n",
    "            if cur_dict[\"winner\"] == \"RED\":\n",
    "                win_lose.append(\"WIN\")\n",
    "            else:\n",
    "                win_lose.append(\"LOSE\")\n",
    "        \n",
    "    df = pd.DataFrame({\"champion_id\": champion_id, \"patch\": patch, \"side\": side, \n",
    "                        \"ban_pick\": ban_pick, \"win_lose\": win_lose, \"tournament\": tournament_name, \n",
    "                        \"game_id\": game_id, \"date\": date, \"duration\": duration})\n",
    "        \n",
    "    return df"
   ]
  },
  {
   "cell_type": "code",
   "execution_count": null,
   "id": "c457492e",
   "metadata": {
    "ExecuteTime": {
     "end_time": "2024-02-09T13:01:35.513892Z",
     "start_time": "2024-02-09T13:01:35.513892Z"
    },
    "scrolled": true
   },
   "outputs": [],
   "source": [
    "df_worlds_s3 = store_banpicks('Season 3 World Championship')\n",
    "df_worlds_s3"
   ]
  },
  {
   "cell_type": "code",
   "execution_count": null,
   "id": "79062125",
   "metadata": {
    "ExecuteTime": {
     "end_time": "2024-02-09T13:01:35.515887Z",
     "start_time": "2024-02-09T13:01:35.515887Z"
    },
    "scrolled": true
   },
   "outputs": [],
   "source": [
    "df = pd.DataFrame()\n",
    "for t in t_with_data:\n",
    "    cur_df = store_banpicks(t)\n",
    "    df = df.append(cur_df)\n",
    "df.reset_index(inplace=True)\n",
    "df.drop(\"index\", axis=1, inplace=True)"
   ]
  },
  {
   "cell_type": "code",
   "execution_count": null,
   "id": "c35daebf",
   "metadata": {
    "ExecuteTime": {
     "end_time": "2024-02-09T13:01:35.516885Z",
     "start_time": "2024-02-09T13:01:35.516885Z"
    },
    "scrolled": true
   },
   "outputs": [],
   "source": [
    "# can switch to show updated version\n",
    "version = \"13.11.1\"\n",
    "version_2 = \"13.23.1\"\n",
    "champion_list = pd.read_json(f\"https://ddragon.leagueoflegends.com/cdn/{version_2}/data/en_US/champion.json\")\n",
    "\n",
    "champion_list.drop([\"type\", \"format\", \"version\"], axis=1, inplace=True)\n",
    "champion_list[\"id\"] = \"\"\n",
    "\n",
    "for champ in champion_list.index:\n",
    "    champion_list[\"id\"][champ] = int(champion_list.loc[champ, \"data\"][\"key\"])\n",
    "\n",
    "champion_list.drop(\"data\", axis=1, inplace=True)\n",
    "champion_list = champion_list.reset_index().rename(columns={\"index\": \"Champion\"})\n",
    "champion_list.to_csv(\"Champ_IDs.csv\")"
   ]
  },
  {
   "cell_type": "code",
   "execution_count": null,
   "id": "afbc7880",
   "metadata": {
    "ExecuteTime": {
     "end_time": "2024-02-09T13:01:35.518881Z",
     "start_time": "2024-02-09T13:01:35.518881Z"
    },
    "scrolled": true
   },
   "outputs": [],
   "source": [
    "df.patch.unique()"
   ]
  },
  {
   "cell_type": "code",
   "execution_count": null,
   "id": "5949d3f2",
   "metadata": {
    "ExecuteTime": {
     "end_time": "2024-02-09T13:01:35.519878Z",
     "start_time": "2024-02-09T13:01:35.519878Z"
    },
    "scrolled": true
   },
   "outputs": [],
   "source": [
    "df[df[\"patch\"].isnull()==True].groupby(\n",
    "    [\"tournament\"])[\"game_id\"].count().reset_index()"
   ]
  },
  {
   "cell_type": "code",
   "execution_count": null,
   "id": "c9451d02",
   "metadata": {
    "ExecuteTime": {
     "end_time": "2024-02-09T13:01:35.520875Z",
     "start_time": "2024-02-09T13:01:35.520875Z"
    },
    "scrolled": true
   },
   "outputs": [],
   "source": [
    "# I tried to find out what patch each tournament was played on for ones with missing patch info.\n",
    "# Most were part of ongoing seasons that spanned multiple patches while the rest did not have available \n",
    "# info. For these cases, I have decided to automatically fill in patch info using the date of the game."
   ]
  },
  {
   "cell_type": "code",
   "execution_count": null,
   "id": "039c203c",
   "metadata": {
    "ExecuteTime": {
     "end_time": "2024-02-09T13:01:35.522869Z",
     "start_time": "2024-02-09T13:01:35.522869Z"
    },
    "scrolled": true
   },
   "outputs": [],
   "source": [
    "patch_notes = pd.read_csv(\"lol_patch_notes.csv\")\n",
    "# for i in range(185):\n",
    "#     patch_notes.Date[i] = patch_notes.Date[i][:-4]\n",
    "# for i in range(185, 321):\n",
    "#     patch_notes.Date[i] = patch_notes.Date[i][:-7]\n",
    "# for i in range(321):\n",
    "#     patch_notes.Date[i] = patch_notes.Date[i].replace('\\n', ' ').strip()\n",
    "# patch_notes.Date[257] = \"June 17 2012\"\n",
    "\n",
    "# for converting str to datetime, pd.to_datetime converts to timestamp obj, which is faster \n",
    "# (and better than converting to dt.datetime obj)\n",
    "# for i in range(321):\n",
    "#     patch_notes.Date[i] = dt.strptime(patch_notes.Date[i], \"%B %d %Y\").date()\n",
    "    \n",
    "# patch_notes.Date = pd.to_datetime(patch_notes.Date, format=\"%B %d %Y\")\n",
    "patch_notes"
   ]
  },
  {
   "cell_type": "code",
   "execution_count": null,
   "id": "342482e8",
   "metadata": {
    "ExecuteTime": {
     "end_time": "2024-02-09T13:01:35.523868Z",
     "start_time": "2024-02-09T13:01:35.523868Z"
    },
    "scrolled": true
   },
   "outputs": [],
   "source": [
    "df.date = pd.to_datetime(df.date)"
   ]
  },
  {
   "cell_type": "code",
   "execution_count": null,
   "id": "4b6e061f",
   "metadata": {
    "ExecuteTime": {
     "end_time": "2024-02-09T13:01:35.525863Z",
     "start_time": "2024-02-09T13:01:35.525863Z"
    },
    "scrolled": true
   },
   "outputs": [],
   "source": [
    "# Info on the patch of tournaments that I found online.\n",
    "update_patch = pd.DataFrame({\"tournament\": \n",
    "                              ['2012 MLG Pro Circuit/Fall/Championship',\n",
    "                                '2014 Season Garena Regional Finals',\n",
    "                                '2014 Season International Wild Card Tournament',\n",
    "                                '2015 GPL Summer Playoffs',\n",
    "                                'Battle of the Atlantic 2013',\n",
    "                                'Gamescom 2013/International Wildcard Tournament',\n",
    "                                'Latin America Cup 2015/LAN/Closing Cup/Promotion',\n",
    "                                'Season 3 China Regional Finals',\n",
    "                                'Season 3 Korea Regional Finals',\n",
    "                                'Season 3 Latin America Regional Finals',\n",
    "                                'Season 3 World Championship'], \n",
    "                              \"patch\": \n",
    "                              ['1.0.0.148',\n",
    "                                '4.13',\n",
    "                                '4.13',\n",
    "                                '5.14',\n",
    "                                '3.14',\n",
    "                                '3.1',\n",
    "                                '5.12',\n",
    "                                '3.9',\n",
    "                                '3.9',\n",
    "                                '3.9',\n",
    "                                '3.11']})\n",
    "update_patch.to_csv(\"leaguepedia_some_missing_patch_info.csv\")"
   ]
  },
  {
   "cell_type": "code",
   "execution_count": null,
   "id": "4bf26d3a",
   "metadata": {
    "ExecuteTime": {
     "end_time": "2024-02-09T13:01:35.526860Z",
     "start_time": "2024-02-09T13:01:35.526860Z"
    },
    "scrolled": true
   },
   "outputs": [],
   "source": [
    "df3 = pd.DataFrame(df.groupby(\"patch\")[\"game_id\"].count()).reset_index()\n",
    "for i in range(len(df3)):\n",
    "    df3.loc[i, \"patch\"] = str(df3.loc[i, \"patch\"]) "
   ]
  },
  {
   "cell_type": "code",
   "execution_count": null,
   "id": "b390fb05",
   "metadata": {
    "ExecuteTime": {
     "end_time": "2024-02-09T13:01:35.527855Z",
     "start_time": "2024-02-09T13:01:35.527855Z"
    },
    "scrolled": true
   },
   "outputs": [],
   "source": [
    "pd.set_option('display.max_rows', None)\n",
    "df.head(600)"
   ]
  },
  {
   "cell_type": "code",
   "execution_count": null,
   "id": "429639dd",
   "metadata": {
    "ExecuteTime": {
     "end_time": "2024-02-09T13:01:35.528852Z",
     "start_time": "2024-02-09T13:01:35.528852Z"
    },
    "scrolled": true
   },
   "outputs": [],
   "source": [
    "pd.DataFrame(df.groupby(\"patch\")[\"game_id\"].count()).reset_index()"
   ]
  },
  {
   "cell_type": "code",
   "execution_count": null,
   "id": "0a58cba1",
   "metadata": {
    "ExecuteTime": {
     "end_time": "2024-02-09T13:01:35.530847Z",
     "start_time": "2024-02-09T13:01:35.530847Z"
    },
    "scrolled": true
   },
   "outputs": [],
   "source": [
    "# update main df patch info with info found online.\n",
    "df2 = df.copy()\n",
    "for i in df2[df2[\"patch\"].isnull()==True].index:\n",
    "    for j in range(len(update_patch)):\n",
    "        if df2.loc[i, \"tournament\"] == update_patch.loc[j, \"tournament\"]:\n",
    "            df2.loc[i, \"patch\"] = update_patch.loc[j, \"patch\"]"
   ]
  },
  {
   "cell_type": "code",
   "execution_count": null,
   "id": "8e6bfeca",
   "metadata": {
    "ExecuteTime": {
     "end_time": "2024-02-09T13:01:35.531844Z",
     "start_time": "2024-02-09T13:01:35.531844Z"
    },
    "scrolled": true
   },
   "outputs": [],
   "source": [
    "# update main df patch info by comparing game dates with patch dates (not necessarily accurate).\n",
    "\n",
    "# took 34 minutes to execute\n",
    "for i in df2[df2[\"patch\"].isnull()==True].index:\n",
    "    for j in range(len(patch_notes)):\n",
    "        if df2.date[i] >= patch_notes.Date[j]:\n",
    "            df2.loc[i, \"patch\"] = patch_notes.loc[j, \"Patch\"]\n",
    "            break"
   ]
  },
  {
   "cell_type": "code",
   "execution_count": null,
   "id": "6edd4581",
   "metadata": {
    "ExecuteTime": {
     "end_time": "2024-02-09T13:01:35.532842Z",
     "start_time": "2024-02-09T13:01:35.532842Z"
    },
    "scrolled": true
   },
   "outputs": [],
   "source": [
    "# drop rows with missing champion_id info (==0)\n",
    "df2.drop(df2[df2[\"champion_id\"]==0].index, axis=0, inplace=True)\n",
    "df2.reset_index(inplace=True)\n",
    "df2.drop([\"index\"], axis=1, inplace=True)"
   ]
  },
  {
   "cell_type": "code",
   "execution_count": null,
   "id": "adfe0529",
   "metadata": {
    "ExecuteTime": {
     "end_time": "2024-02-09T13:01:35.534836Z",
     "start_time": "2024-02-09T13:01:35.534836Z"
    },
    "scrolled": true
   },
   "outputs": [],
   "source": [
    "# df2.to_csv(\"pick_bans_updated.csv\")"
   ]
  },
  {
   "cell_type": "code",
   "execution_count": null,
   "id": "71fce68b",
   "metadata": {
    "ExecuteTime": {
     "end_time": "2024-02-09T13:01:35.535836Z",
     "start_time": "2024-02-09T13:01:35.535836Z"
    },
    "scrolled": true
   },
   "outputs": [],
   "source": [
    "# Update the final pick_bans list\n",
    "df_update = pd.DataFrame()\n",
    "for t in t_with_data:\n",
    "    if t not in df[\"tournament\"].unique():\n",
    "        cur_df = store_banpicks(t)\n",
    "        df_update = pd.concat([df_update, cur_df])\n",
    "df_update.reset_index(inplace=True)\n",
    "df_update.drop(\"index\", axis=1, inplace=True)"
   ]
  },
  {
   "cell_type": "code",
   "execution_count": null,
   "id": "1db67127",
   "metadata": {
    "ExecuteTime": {
     "end_time": "2024-02-09T13:01:35.538080Z",
     "start_time": "2024-02-09T13:01:35.538080Z"
    },
    "scrolled": true
   },
   "outputs": [],
   "source": [
    "# if champion_id == 0 for BAN, it means the team did not ban a champion for that slot.\n",
    "df_update[df_update[\"champion_id\"]==0]\n",
    "df_update.drop(df_update[df_update[\"champion_id\"]==0].index, axis=0, inplace=True)\n",
    "df_update.reset_index(inplace=True)\n",
    "df_update.drop([\"index\"], axis=1, inplace=True)\n",
    "# df_update.to_csv(\"pick_bans_updated_2023nov26.csv\")"
   ]
  }
 ],
 "metadata": {
  "kernelspec": {
   "display_name": "Python 3 (ipykernel)",
   "language": "python",
   "name": "python3"
  },
  "language_info": {
   "codemirror_mode": {
    "name": "ipython",
    "version": 3
   },
   "file_extension": ".py",
   "mimetype": "text/x-python",
   "name": "python",
   "nbconvert_exporter": "python",
   "pygments_lexer": "ipython3",
   "version": "3.9.7"
  },
  "toc": {
   "base_numbering": 1,
   "nav_menu": {},
   "number_sections": true,
   "sideBar": true,
   "skip_h1_title": false,
   "title_cell": "Table of Contents",
   "title_sidebar": "Contents",
   "toc_cell": false,
   "toc_position": {},
   "toc_section_display": true,
   "toc_window_display": false
  }
 },
 "nbformat": 4,
 "nbformat_minor": 5
}
